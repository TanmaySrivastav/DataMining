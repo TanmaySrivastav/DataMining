{
 "cells": [
  {
   "cell_type": "markdown",
   "id": "54cf4d72",
   "metadata": {},
   "source": [
    "This notebok is the fifth of 5 notebooks in total.\n",
    "\n",
    "**Notebook 5 of 5**\n",
    "\n",
    "### `EDA`, `Data Preparation`, `Clustering`, `Regression`, **`Classification`**"
   ]
  },
  {
   "cell_type": "markdown",
   "id": "157c0c5e",
   "metadata": {},
   "source": [
    "#### Students in Group 15:\n",
    "\n",
    "Jake Brady - 19238428\n",
    "\n",
    "Anirudh Verma - 23120231\n",
    "\n",
    "Sakina Padghawala - 23011823\n",
    "\n",
    "Soumadip Patra - 23168471\n",
    "\n",
    "Tanmay Srivastava - 23118067\n",
    "\n",
    "**All Students in the group contributed equally**"
   ]
  },
  {
   "cell_type": "markdown",
   "id": "f0279440",
   "metadata": {},
   "source": [
    "#### **Layout of Notebook:**\n",
    "-  0. Import required libraries & Load Dataset\n",
    "-  1. Data Preparation\n",
    "-  2. Model Training\n",
    "-  3. Models Evaluation\n",
    "-  4. Models Comparison with Evaluation metrics\n",
    "-  5. Conclusion and Final Model\n",
    "       - *Saving the trained model in model directory*"
   ]
  },
  {
   "cell_type": "markdown",
   "id": "5aaad6e4",
   "metadata": {},
   "source": [
    "## 0. Import required libraries & Load Dataset"
   ]
  },
  {
   "cell_type": "code",
   "execution_count": 1,
   "id": "162d683f",
   "metadata": {},
   "outputs": [],
   "source": [
    "import pandas as pd\n",
    "import numpy as np\n",
    "from sklearn.pipeline import Pipeline, make_pipeline\n",
    "from sklearn.compose import (ColumnTransformer, TransformedTargetRegressor)\n",
    "from sklearn.base import (BaseEstimator, TransformerMixin)\n",
    "from sklearn.preprocessing import (StandardScaler, RobustScaler, OneHotEncoder, FunctionTransformer, MinMaxScaler)\n",
    "from sklearn.model_selection import train_test_split\n",
    "import warnings; warnings.simplefilter(\"ignore\")\n",
    "from sklearn import set_config\n",
    "import pickle\n",
    "import seaborn as sns\n",
    "import matplotlib.pyplot as plt\n",
    "%matplotlib inline\n",
    "\n",
    "#import necessary classifiers\n",
    "from sklearn.pipeline import Pipeline\n",
    "from sklearn.linear_model import LogisticRegression\n",
    "from sklearn.neighbors import KNeighborsClassifier\n",
    "from sklearn.neural_network import MLPClassifier\n",
    "from sklearn.ensemble import RandomForestClassifier\n",
    "from sklearn.naive_bayes import GaussianNB\n",
    "from sklearn.svm import SVC  # Support Vector Classifier\n",
    "from sklearn.metrics import accuracy_score, precision_score, recall_score, f1_score, roc_auc_score\n",
    "from sklearn.metrics import roc_curve, auc, precision_recall_fscore_support\n",
    "\n",
    "# Import libraries for GridSearchCV (optional)\n",
    "from sklearn.model_selection import GridSearchCV\n",
    "\n",
    "# imports necessary for dimensionality reduction\n",
    "from sklearn.decomposition import PCA\n",
    "from sklearn.feature_selection import RFE\n",
    "from sklearn import svm\n",
    " \n",
    "# regression algorithms6\n",
    "from sklearn.ensemble import RandomForestRegressor\n",
    "from sklearn.linear_model import LinearRegression\n",
    "\n",
    "# metrics for evaluating regression models\n",
    "from sklearn.metrics import mean_squared_error, mean_absolute_error, r2_score\n",
    "df = pd.read_csv(\"./prepped_data.csv\")"
   ]
  },
  {
   "cell_type": "code",
   "execution_count": 2,
   "id": "6ab5e358",
   "metadata": {},
   "outputs": [
    {
     "data": {
      "text/html": [
       "<div>\n",
       "<style scoped>\n",
       "    .dataframe tbody tr th:only-of-type {\n",
       "        vertical-align: middle;\n",
       "    }\n",
       "\n",
       "    .dataframe tbody tr th {\n",
       "        vertical-align: top;\n",
       "    }\n",
       "\n",
       "    .dataframe thead th {\n",
       "        text-align: right;\n",
       "    }\n",
       "</style>\n",
       "<table border=\"1\" class=\"dataframe\">\n",
       "  <thead>\n",
       "    <tr style=\"text-align: right;\">\n",
       "      <th></th>\n",
       "      <th>Unnamed: 0</th>\n",
       "      <th>Usage_kWh</th>\n",
       "      <th>Lagging_Current_Reactive_Power_kVarh</th>\n",
       "      <th>Leading_Current_Reactive_Power_kVarh</th>\n",
       "      <th>CO2</th>\n",
       "      <th>Lagging_Current_Power_Factor</th>\n",
       "      <th>Leading_Current_Power_Factor</th>\n",
       "      <th>NSM</th>\n",
       "      <th>Usage_kWh_categorical</th>\n",
       "      <th>isWeekend</th>\n",
       "      <th>Friday</th>\n",
       "      <th>Monday</th>\n",
       "      <th>Saturday</th>\n",
       "      <th>Thursday</th>\n",
       "      <th>Tuesday</th>\n",
       "      <th>Wednesday</th>\n",
       "    </tr>\n",
       "  </thead>\n",
       "  <tbody>\n",
       "    <tr>\n",
       "      <th>0</th>\n",
       "      <td>0</td>\n",
       "      <td>-0.048501</td>\n",
       "      <td>-0.023247</td>\n",
       "      <td>0.000000</td>\n",
       "      <td>0.0</td>\n",
       "      <td>-0.774550</td>\n",
       "      <td>0.000000</td>\n",
       "      <td>-0.791667</td>\n",
       "      <td>0</td>\n",
       "      <td>False</td>\n",
       "      <td>False</td>\n",
       "      <td>True</td>\n",
       "      <td>False</td>\n",
       "      <td>False</td>\n",
       "      <td>False</td>\n",
       "      <td>False</td>\n",
       "    </tr>\n",
       "    <tr>\n",
       "      <th>1</th>\n",
       "      <td>1</td>\n",
       "      <td>-0.080181</td>\n",
       "      <td>-0.094848</td>\n",
       "      <td>0.000000</td>\n",
       "      <td>0.0</td>\n",
       "      <td>-0.686692</td>\n",
       "      <td>0.000000</td>\n",
       "      <td>-0.645833</td>\n",
       "      <td>0</td>\n",
       "      <td>False</td>\n",
       "      <td>False</td>\n",
       "      <td>True</td>\n",
       "      <td>False</td>\n",
       "      <td>False</td>\n",
       "      <td>False</td>\n",
       "      <td>False</td>\n",
       "    </tr>\n",
       "    <tr>\n",
       "      <th>2</th>\n",
       "      <td>2</td>\n",
       "      <td>-0.080181</td>\n",
       "      <td>-0.123921</td>\n",
       "      <td>0.000000</td>\n",
       "      <td>0.0</td>\n",
       "      <td>-0.578460</td>\n",
       "      <td>0.000000</td>\n",
       "      <td>-0.520833</td>\n",
       "      <td>0</td>\n",
       "      <td>False</td>\n",
       "      <td>False</td>\n",
       "      <td>True</td>\n",
       "      <td>False</td>\n",
       "      <td>False</td>\n",
       "      <td>False</td>\n",
       "      <td>False</td>\n",
       "    </tr>\n",
       "    <tr>\n",
       "      <th>3</th>\n",
       "      <td>3</td>\n",
       "      <td>-0.057074</td>\n",
       "      <td>-1.074812</td>\n",
       "      <td>1.972347</td>\n",
       "      <td>0.0</td>\n",
       "      <td>0.302350</td>\n",
       "      <td>-505.662402</td>\n",
       "      <td>-0.166667</td>\n",
       "      <td>0</td>\n",
       "      <td>False</td>\n",
       "      <td>False</td>\n",
       "      <td>True</td>\n",
       "      <td>False</td>\n",
       "      <td>False</td>\n",
       "      <td>False</td>\n",
       "      <td>False</td>\n",
       "    </tr>\n",
       "    <tr>\n",
       "      <th>4</th>\n",
       "      <td>4</td>\n",
       "      <td>-0.052760</td>\n",
       "      <td>-1.074812</td>\n",
       "      <td>2.015038</td>\n",
       "      <td>0.0</td>\n",
       "      <td>0.302350</td>\n",
       "      <td>-516.274439</td>\n",
       "      <td>-0.125000</td>\n",
       "      <td>0</td>\n",
       "      <td>False</td>\n",
       "      <td>False</td>\n",
       "      <td>True</td>\n",
       "      <td>False</td>\n",
       "      <td>False</td>\n",
       "      <td>False</td>\n",
       "      <td>False</td>\n",
       "    </tr>\n",
       "  </tbody>\n",
       "</table>\n",
       "</div>"
      ],
      "text/plain": [
       "   Unnamed: 0  Usage_kWh  Lagging_Current_Reactive_Power_kVarh  \\\n",
       "0           0  -0.048501                             -0.023247   \n",
       "1           1  -0.080181                             -0.094848   \n",
       "2           2  -0.080181                             -0.123921   \n",
       "3           3  -0.057074                             -1.074812   \n",
       "4           4  -0.052760                             -1.074812   \n",
       "\n",
       "   Leading_Current_Reactive_Power_kVarh  CO2  Lagging_Current_Power_Factor  \\\n",
       "0                              0.000000  0.0                     -0.774550   \n",
       "1                              0.000000  0.0                     -0.686692   \n",
       "2                              0.000000  0.0                     -0.578460   \n",
       "3                              1.972347  0.0                      0.302350   \n",
       "4                              2.015038  0.0                      0.302350   \n",
       "\n",
       "   Leading_Current_Power_Factor       NSM  Usage_kWh_categorical  isWeekend  \\\n",
       "0                      0.000000 -0.791667                      0      False   \n",
       "1                      0.000000 -0.645833                      0      False   \n",
       "2                      0.000000 -0.520833                      0      False   \n",
       "3                   -505.662402 -0.166667                      0      False   \n",
       "4                   -516.274439 -0.125000                      0      False   \n",
       "\n",
       "   Friday  Monday  Saturday  Thursday  Tuesday  Wednesday  \n",
       "0   False    True     False     False    False      False  \n",
       "1   False    True     False     False    False      False  \n",
       "2   False    True     False     False    False      False  \n",
       "3   False    True     False     False    False      False  \n",
       "4   False    True     False     False    False      False  "
      ]
     },
     "execution_count": 2,
     "metadata": {},
     "output_type": "execute_result"
    }
   ],
   "source": [
    "df.head(5)"
   ]
  },
  {
   "cell_type": "code",
   "execution_count": 3,
   "id": "f403b351",
   "metadata": {},
   "outputs": [
    {
     "data": {
      "text/html": [
       "<div>\n",
       "<style scoped>\n",
       "    .dataframe tbody tr th:only-of-type {\n",
       "        vertical-align: middle;\n",
       "    }\n",
       "\n",
       "    .dataframe tbody tr th {\n",
       "        vertical-align: top;\n",
       "    }\n",
       "\n",
       "    .dataframe thead th {\n",
       "        text-align: right;\n",
       "    }\n",
       "</style>\n",
       "<table border=\"1\" class=\"dataframe\">\n",
       "  <thead>\n",
       "    <tr style=\"text-align: right;\">\n",
       "      <th></th>\n",
       "      <th>Unnamed: 0</th>\n",
       "      <th>Usage_kWh</th>\n",
       "      <th>Lagging_Current_Reactive_Power_kVarh</th>\n",
       "      <th>Leading_Current_Reactive_Power_kVarh</th>\n",
       "      <th>CO2</th>\n",
       "      <th>Lagging_Current_Power_Factor</th>\n",
       "      <th>Leading_Current_Power_Factor</th>\n",
       "      <th>NSM</th>\n",
       "      <th>Usage_kWh_categorical</th>\n",
       "    </tr>\n",
       "  </thead>\n",
       "  <tbody>\n",
       "    <tr>\n",
       "      <th>count</th>\n",
       "      <td>2190.000000</td>\n",
       "      <td>2190.000000</td>\n",
       "      <td>2190.000000</td>\n",
       "      <td>2190.000000</td>\n",
       "      <td>2190.000000</td>\n",
       "      <td>2190.000000</td>\n",
       "      <td>2190.000000</td>\n",
       "      <td>2190.000000</td>\n",
       "      <td>2190.000000</td>\n",
       "    </tr>\n",
       "    <tr>\n",
       "      <th>mean</th>\n",
       "      <td>1094.500000</td>\n",
       "      <td>0.374880</td>\n",
       "      <td>0.060658</td>\n",
       "      <td>0.509052</td>\n",
       "      <td>0.458881</td>\n",
       "      <td>-0.249905</td>\n",
       "      <td>-100.564471</td>\n",
       "      <td>-0.004043</td>\n",
       "      <td>0.393607</td>\n",
       "    </tr>\n",
       "    <tr>\n",
       "      <th>std</th>\n",
       "      <td>632.342866</td>\n",
       "      <td>0.540288</td>\n",
       "      <td>0.754812</td>\n",
       "      <td>0.819185</td>\n",
       "      <td>0.556309</td>\n",
       "      <td>0.575338</td>\n",
       "      <td>196.752845</td>\n",
       "      <td>0.574542</td>\n",
       "      <td>0.488661</td>\n",
       "    </tr>\n",
       "    <tr>\n",
       "      <th>min</th>\n",
       "      <td>0.000000</td>\n",
       "      <td>-0.138389</td>\n",
       "      <td>-1.074812</td>\n",
       "      <td>0.000000</td>\n",
       "      <td>0.000000</td>\n",
       "      <td>-1.620621</td>\n",
       "      <td>-603.404485</td>\n",
       "      <td>-1.000000</td>\n",
       "      <td>0.000000</td>\n",
       "    </tr>\n",
       "    <tr>\n",
       "      <th>25%</th>\n",
       "      <td>547.250000</td>\n",
       "      <td>-0.082851</td>\n",
       "      <td>-0.254582</td>\n",
       "      <td>0.000000</td>\n",
       "      <td>0.000000</td>\n",
       "      <td>-0.720314</td>\n",
       "      <td>-1.000000</td>\n",
       "      <td>-0.500000</td>\n",
       "      <td>0.000000</td>\n",
       "    </tr>\n",
       "    <tr>\n",
       "      <th>50%</th>\n",
       "      <td>1094.500000</td>\n",
       "      <td>0.000000</td>\n",
       "      <td>0.000000</td>\n",
       "      <td>0.000000</td>\n",
       "      <td>0.000000</td>\n",
       "      <td>0.000000</td>\n",
       "      <td>0.000000</td>\n",
       "      <td>0.000000</td>\n",
       "      <td>0.000000</td>\n",
       "    </tr>\n",
       "    <tr>\n",
       "      <th>75%</th>\n",
       "      <td>1641.750000</td>\n",
       "      <td>0.917149</td>\n",
       "      <td>0.745418</td>\n",
       "      <td>1.000000</td>\n",
       "      <td>1.000000</td>\n",
       "      <td>0.279686</td>\n",
       "      <td>0.000000</td>\n",
       "      <td>0.500000</td>\n",
       "      <td>1.000000</td>\n",
       "    </tr>\n",
       "    <tr>\n",
       "      <th>max</th>\n",
       "      <td>2189.000000</td>\n",
       "      <td>1.580246</td>\n",
       "      <td>1.741579</td>\n",
       "      <td>2.316849</td>\n",
       "      <td>1.518294</td>\n",
       "      <td>0.302350</td>\n",
       "      <td>0.000000</td>\n",
       "      <td>0.979167</td>\n",
       "      <td>1.000000</td>\n",
       "    </tr>\n",
       "  </tbody>\n",
       "</table>\n",
       "</div>"
      ],
      "text/plain": [
       "        Unnamed: 0    Usage_kWh  Lagging_Current_Reactive_Power_kVarh  \\\n",
       "count  2190.000000  2190.000000                           2190.000000   \n",
       "mean   1094.500000     0.374880                              0.060658   \n",
       "std     632.342866     0.540288                              0.754812   \n",
       "min       0.000000    -0.138389                             -1.074812   \n",
       "25%     547.250000    -0.082851                             -0.254582   \n",
       "50%    1094.500000     0.000000                              0.000000   \n",
       "75%    1641.750000     0.917149                              0.745418   \n",
       "max    2189.000000     1.580246                              1.741579   \n",
       "\n",
       "       Leading_Current_Reactive_Power_kVarh          CO2  \\\n",
       "count                           2190.000000  2190.000000   \n",
       "mean                               0.509052     0.458881   \n",
       "std                                0.819185     0.556309   \n",
       "min                                0.000000     0.000000   \n",
       "25%                                0.000000     0.000000   \n",
       "50%                                0.000000     0.000000   \n",
       "75%                                1.000000     1.000000   \n",
       "max                                2.316849     1.518294   \n",
       "\n",
       "       Lagging_Current_Power_Factor  Leading_Current_Power_Factor  \\\n",
       "count                   2190.000000                   2190.000000   \n",
       "mean                      -0.249905                   -100.564471   \n",
       "std                        0.575338                    196.752845   \n",
       "min                       -1.620621                   -603.404485   \n",
       "25%                       -0.720314                     -1.000000   \n",
       "50%                        0.000000                      0.000000   \n",
       "75%                        0.279686                      0.000000   \n",
       "max                        0.302350                      0.000000   \n",
       "\n",
       "               NSM  Usage_kWh_categorical  \n",
       "count  2190.000000            2190.000000  \n",
       "mean     -0.004043               0.393607  \n",
       "std       0.574542               0.488661  \n",
       "min      -1.000000               0.000000  \n",
       "25%      -0.500000               0.000000  \n",
       "50%       0.000000               0.000000  \n",
       "75%       0.500000               1.000000  \n",
       "max       0.979167               1.000000  "
      ]
     },
     "execution_count": 3,
     "metadata": {},
     "output_type": "execute_result"
    }
   ],
   "source": [
    "df.describe()"
   ]
  },
  {
   "cell_type": "code",
   "execution_count": 4,
   "id": "7bd1e9b3",
   "metadata": {},
   "outputs": [
    {
     "data": {
      "text/html": [
       "<div>\n",
       "<style scoped>\n",
       "    .dataframe tbody tr th:only-of-type {\n",
       "        vertical-align: middle;\n",
       "    }\n",
       "\n",
       "    .dataframe tbody tr th {\n",
       "        vertical-align: top;\n",
       "    }\n",
       "\n",
       "    .dataframe thead th {\n",
       "        text-align: right;\n",
       "    }\n",
       "</style>\n",
       "<table border=\"1\" class=\"dataframe\">\n",
       "  <thead>\n",
       "    <tr style=\"text-align: right;\">\n",
       "      <th></th>\n",
       "      <th>Unnamed: 0</th>\n",
       "      <th>Lagging_Current_Reactive_Power_kVarh</th>\n",
       "      <th>Leading_Current_Reactive_Power_kVarh</th>\n",
       "      <th>CO2</th>\n",
       "      <th>Lagging_Current_Power_Factor</th>\n",
       "      <th>Leading_Current_Power_Factor</th>\n",
       "      <th>NSM</th>\n",
       "      <th>Usage_kWh_categorical</th>\n",
       "      <th>isWeekend</th>\n",
       "      <th>Friday</th>\n",
       "      <th>Monday</th>\n",
       "      <th>Saturday</th>\n",
       "      <th>Thursday</th>\n",
       "      <th>Tuesday</th>\n",
       "      <th>Wednesday</th>\n",
       "    </tr>\n",
       "  </thead>\n",
       "  <tbody>\n",
       "    <tr>\n",
       "      <th>0</th>\n",
       "      <td>0</td>\n",
       "      <td>-0.023247</td>\n",
       "      <td>0.000000</td>\n",
       "      <td>0.0</td>\n",
       "      <td>-0.774550</td>\n",
       "      <td>0.000000</td>\n",
       "      <td>-0.791667</td>\n",
       "      <td>0</td>\n",
       "      <td>False</td>\n",
       "      <td>False</td>\n",
       "      <td>True</td>\n",
       "      <td>False</td>\n",
       "      <td>False</td>\n",
       "      <td>False</td>\n",
       "      <td>False</td>\n",
       "    </tr>\n",
       "    <tr>\n",
       "      <th>1</th>\n",
       "      <td>1</td>\n",
       "      <td>-0.094848</td>\n",
       "      <td>0.000000</td>\n",
       "      <td>0.0</td>\n",
       "      <td>-0.686692</td>\n",
       "      <td>0.000000</td>\n",
       "      <td>-0.645833</td>\n",
       "      <td>0</td>\n",
       "      <td>False</td>\n",
       "      <td>False</td>\n",
       "      <td>True</td>\n",
       "      <td>False</td>\n",
       "      <td>False</td>\n",
       "      <td>False</td>\n",
       "      <td>False</td>\n",
       "    </tr>\n",
       "    <tr>\n",
       "      <th>2</th>\n",
       "      <td>2</td>\n",
       "      <td>-0.123921</td>\n",
       "      <td>0.000000</td>\n",
       "      <td>0.0</td>\n",
       "      <td>-0.578460</td>\n",
       "      <td>0.000000</td>\n",
       "      <td>-0.520833</td>\n",
       "      <td>0</td>\n",
       "      <td>False</td>\n",
       "      <td>False</td>\n",
       "      <td>True</td>\n",
       "      <td>False</td>\n",
       "      <td>False</td>\n",
       "      <td>False</td>\n",
       "      <td>False</td>\n",
       "    </tr>\n",
       "    <tr>\n",
       "      <th>3</th>\n",
       "      <td>3</td>\n",
       "      <td>-1.074812</td>\n",
       "      <td>1.972347</td>\n",
       "      <td>0.0</td>\n",
       "      <td>0.302350</td>\n",
       "      <td>-505.662402</td>\n",
       "      <td>-0.166667</td>\n",
       "      <td>0</td>\n",
       "      <td>False</td>\n",
       "      <td>False</td>\n",
       "      <td>True</td>\n",
       "      <td>False</td>\n",
       "      <td>False</td>\n",
       "      <td>False</td>\n",
       "      <td>False</td>\n",
       "    </tr>\n",
       "    <tr>\n",
       "      <th>4</th>\n",
       "      <td>4</td>\n",
       "      <td>-1.074812</td>\n",
       "      <td>2.015038</td>\n",
       "      <td>0.0</td>\n",
       "      <td>0.302350</td>\n",
       "      <td>-516.274439</td>\n",
       "      <td>-0.125000</td>\n",
       "      <td>0</td>\n",
       "      <td>False</td>\n",
       "      <td>False</td>\n",
       "      <td>True</td>\n",
       "      <td>False</td>\n",
       "      <td>False</td>\n",
       "      <td>False</td>\n",
       "      <td>False</td>\n",
       "    </tr>\n",
       "  </tbody>\n",
       "</table>\n",
       "</div>"
      ],
      "text/plain": [
       "   Unnamed: 0  Lagging_Current_Reactive_Power_kVarh  \\\n",
       "0           0                             -0.023247   \n",
       "1           1                             -0.094848   \n",
       "2           2                             -0.123921   \n",
       "3           3                             -1.074812   \n",
       "4           4                             -1.074812   \n",
       "\n",
       "   Leading_Current_Reactive_Power_kVarh  CO2  Lagging_Current_Power_Factor  \\\n",
       "0                              0.000000  0.0                     -0.774550   \n",
       "1                              0.000000  0.0                     -0.686692   \n",
       "2                              0.000000  0.0                     -0.578460   \n",
       "3                              1.972347  0.0                      0.302350   \n",
       "4                              2.015038  0.0                      0.302350   \n",
       "\n",
       "   Leading_Current_Power_Factor       NSM  Usage_kWh_categorical  isWeekend  \\\n",
       "0                      0.000000 -0.791667                      0      False   \n",
       "1                      0.000000 -0.645833                      0      False   \n",
       "2                      0.000000 -0.520833                      0      False   \n",
       "3                   -505.662402 -0.166667                      0      False   \n",
       "4                   -516.274439 -0.125000                      0      False   \n",
       "\n",
       "   Friday  Monday  Saturday  Thursday  Tuesday  Wednesday  \n",
       "0   False    True     False     False    False      False  \n",
       "1   False    True     False     False    False      False  \n",
       "2   False    True     False     False    False      False  \n",
       "3   False    True     False     False    False      False  \n",
       "4   False    True     False     False    False      False  "
      ]
     },
     "execution_count": 4,
     "metadata": {},
     "output_type": "execute_result"
    }
   ],
   "source": [
    "if 'Usage_kWh' in df.columns:\n",
    "    df = df.drop(columns='Usage_kWh', axis=0)\n",
    "df.head()"
   ]
  },
  {
   "cell_type": "code",
   "execution_count": 5,
   "id": "2eb1413d",
   "metadata": {},
   "outputs": [
    {
     "data": {
      "text/plain": [
       "Usage_kWh_categorical\n",
       "0    1328\n",
       "1     862\n",
       "Name: count, dtype: int64"
      ]
     },
     "execution_count": 5,
     "metadata": {},
     "output_type": "execute_result"
    }
   ],
   "source": [
    "df['Usage_kWh_categorical'].value_counts()"
   ]
  },
  {
   "cell_type": "code",
   "execution_count": 6,
   "id": "72413a05",
   "metadata": {},
   "outputs": [],
   "source": [
    "X = df.drop(\"Usage_kWh_categorical\", axis=1)  # Features\n",
    "y = df[\"Usage_kWh_categorical\"]  # Target variable"
   ]
  },
  {
   "cell_type": "markdown",
   "id": "8278d700",
   "metadata": {},
   "source": [
    "\n",
    "## 1. Data Preparation\n",
    "\n",
    "\n",
    "#### While this step was already performed in Data Preparation, it is done again to maintain consistency and integrity."
   ]
  },
  {
   "cell_type": "code",
   "execution_count": 7,
   "id": "400e613b",
   "metadata": {},
   "outputs": [],
   "source": [
    "columns_No_Outliers_skewed = ['Lagging_Current_Power_Factor','NSM']\n",
    "columns_Outliers_skewed = ['CO2', 'isWeekend', 'Monday', 'Saturday','Thursday', 'Tuesday', 'Wednesday', 'Leading_Current_Power_Factor', 'Lagging_Current_Reactive_Power_kVarh', 'Leading_Current_Reactive_Power_kVarh']"
   ]
  },
  {
   "cell_type": "markdown",
   "id": "e275f3f2",
   "metadata": {},
   "source": [
    "#### A check to ensure that all columns are accounted for and classified"
   ]
  },
  {
   "cell_type": "code",
   "execution_count": 8,
   "id": "e07f5e7c",
   "metadata": {},
   "outputs": [
    {
     "name": "stdout",
     "output_type": "stream",
     "text": [
      "<class 'pandas.core.frame.DataFrame'>\n",
      "RangeIndex: 2190 entries, 0 to 2189\n",
      "Data columns (total 15 columns):\n",
      " #   Column                                Non-Null Count  Dtype  \n",
      "---  ------                                --------------  -----  \n",
      " 0   Unnamed: 0                            2190 non-null   int64  \n",
      " 1   Lagging_Current_Reactive_Power_kVarh  2190 non-null   float64\n",
      " 2   Leading_Current_Reactive_Power_kVarh  2190 non-null   float64\n",
      " 3   CO2                                   2190 non-null   float64\n",
      " 4   Lagging_Current_Power_Factor          2190 non-null   float64\n",
      " 5   Leading_Current_Power_Factor          2190 non-null   float64\n",
      " 6   NSM                                   2190 non-null   float64\n",
      " 7   Usage_kWh_categorical                 2190 non-null   int64  \n",
      " 8   isWeekend                             2190 non-null   bool   \n",
      " 9   Friday                                2190 non-null   bool   \n",
      " 10  Monday                                2190 non-null   bool   \n",
      " 11  Saturday                              2190 non-null   bool   \n",
      " 12  Thursday                              2190 non-null   bool   \n",
      " 13  Tuesday                               2190 non-null   bool   \n",
      " 14  Wednesday                             2190 non-null   bool   \n",
      "dtypes: bool(7), float64(6), int64(2)\n",
      "memory usage: 152.0 KB\n"
     ]
    }
   ],
   "source": [
    "len(columns_No_Outliers_skewed) + len(columns_Outliers_skewed)  == X.shape[1]\n",
    "df.info()"
   ]
  },
  {
   "cell_type": "markdown",
   "id": "f214d13c",
   "metadata": {},
   "source": [
    "### Building the preprocessing pipeline by using Pipeline and ColumnTransformer as follows"
   ]
  },
  {
   "cell_type": "code",
   "execution_count": 9,
   "id": "9daa666a",
   "metadata": {},
   "outputs": [],
   "source": [
    "No_Outliers_skewed_pipeline = Pipeline(\n",
    "    steps = [\n",
    "        (\"log_transform\", FunctionTransformer(np.cbrt)), \n",
    "        (\"scaler\", MinMaxScaler())\n",
    "    ]\n",
    ")\n",
    "\n",
    "Outliers_skewed_pipeline = Pipeline(\n",
    "    steps = [\n",
    "        (\"log_transform\", FunctionTransformer(np.cbrt)), \n",
    "        (\"scaler\", RobustScaler())\n",
    "    ]\n",
    ")\n",
    "\n",
    "\n",
    "\n",
    "preprocess_pipeline = ColumnTransformer(\n",
    "    transformers = [\n",
    "        (\"No_Outliers_skewed\", No_Outliers_skewed_pipeline, columns_No_Outliers_skewed),    \n",
    "        (\"Outliers_skewed\", Outliers_skewed_pipeline, columns_Outliers_skewed),\n",
    "        \n",
    "    ],\n",
    "    remainder=\"passthrough\" # note there are no remaining columns in this example\n",
    ")"
   ]
  },
  {
   "cell_type": "markdown",
   "id": "afcbf943",
   "metadata": {},
   "source": [
    "### Spliting the dataset into a training and test sets."
   ]
  },
  {
   "cell_type": "code",
   "execution_count": 10,
   "id": "343ef42b",
   "metadata": {},
   "outputs": [],
   "source": [
    "X_train, X_test, y_train, y_test = train_test_split(X, y, test_size=0.2, random_state=42)"
   ]
  },
  {
   "cell_type": "markdown",
   "id": "12707088",
   "metadata": {},
   "source": [
    "## 2. Model Training\n",
    "#### Using   KNN, Random Forest, SVN, Naive Bayes & MLP Classifier "
   ]
  },
  {
   "cell_type": "markdown",
   "id": "b2d8b50e",
   "metadata": {},
   "source": [
    "### KNN"
   ]
  },
  {
   "cell_type": "code",
   "execution_count": 11,
   "id": "7b8a5d34",
   "metadata": {},
   "outputs": [
    {
     "data": {
      "image/png": "[encoded data removed]",
      "text/plain": [
       "<Figure size 1000x800 with 2 Axes>"
      ]
     },
     "metadata": {},
     "output_type": "display_data"
    }
   ],
   "source": [
    "import seaborn as sns\n",
    "import matplotlib.pyplot as plt\n",
    "\n",
    "# Assuming 'df' is your DataFrame and it's already loaded\n",
    "# Calculate the correlation matrix\n",
    "df2=df.drop(['Unnamed: 0','Friday','Monday','Thursday','Tuesday'], axis=1)\n",
    "corr = df2.corr()\n",
    "\n",
    "# Create a heatmap\n",
    "plt.figure(figsize=(10, 8))\n",
    "sns.heatmap(corr, annot=True, fmt=\".2f\", cmap=\"coolwarm\")\n",
    "plt.title(\"Correlation Heatmap\")\n",
    "plt.show()\n"
   ]
  },
  {
   "cell_type": "markdown",
   "id": "b23c7980",
   "metadata": {},
   "source": [
    "#### We see that Lagging_Current_Reactive_Power_kVarh', 'CO2','NSM', 'Leading_Current_Power_Factor are some of the deepest correlated features and hence will be using those in our classification models.\n"
   ]
  },
  {
   "cell_type": "code",
   "execution_count": 12,
   "id": "a2e3a387",
   "metadata": {},
   "outputs": [
    {
     "name": "stdout",
     "output_type": "stream",
     "text": [
      "Top 5 features: ['CO2', 'Lagging_Current_Reactive_Power_kVarh', 'Lagging_Current_Power_Factor', 'NSM', 'Leading_Current_Reactive_Power_kVarh']\n"
     ]
    }
   ],
   "source": [
    "#To also make an educated guess about the most important features\n",
    "# Fit a Random Forest model to the training data\n",
    "from sklearn.feature_selection import SelectFromModel\n",
    "\n",
    "rf = RandomForestClassifier(random_state=42)\n",
    "rf.fit(X_train, y_train)\n",
    "\n",
    "# Getting feature importances \n",
    "importances = rf.feature_importances_\n",
    "\n",
    "# Sort the features by importance\n",
    "sorted_indices = np.argsort(importances)[::-1]\n",
    "\n",
    "\n",
    "n_features = 5 # Number of features to select\n",
    "top_n_indices = sorted_indices[:n_features]\n",
    "top_n_features = X_train.columns[top_n_indices]\n",
    "\n",
    "feature_selector = SelectFromModel(rf, prefit=True)\n",
    "X_train_selected = feature_selector.transform(X_train)\n",
    "X_test_selected = feature_selector.transform(X_test)\n",
    "\n",
    "print(f\"Top {n_features} features: {top_n_features.tolist()}\")"
   ]
  },
  {
   "cell_type": "markdown",
   "id": "5605d60e",
   "metadata": {},
   "source": [
    "#### This further validates our focus"
   ]
  },
  {
   "cell_type": "code",
   "execution_count": 13,
   "id": "65d05f35",
   "metadata": {},
   "outputs": [],
   "source": [
    "class FeatureSelector:\n",
    "    def __init__(self, features):\n",
    "        self.features = features\n",
    "\n",
    "    def fit(self, X, y=None):\n",
    "        return self\n",
    "\n",
    "    def transform(self, X):\n",
    "        return X[self.features]\n",
    "\n",
    "    def set_params(self, **kwargs):\n",
    "        self.features = kwargs.get(\"features\", self.features)\n",
    "        return self"
   ]
  },
  {
   "cell_type": "code",
   "execution_count": 14,
   "id": "4d914471",
   "metadata": {
    "scrolled": true
   },
   "outputs": [
    {
     "data": {
      "image/png": "[encoded data removed]",
      "text/plain": [
       "<Figure size 800x500 with 1 Axes>"
      ]
     },
     "metadata": {},
     "output_type": "display_data"
    }
   ],
   "source": [
    "from sklearn.decomposition import PCA\n",
    "pca = PCA()\n",
    "\n",
    "# Fit PCA on the standardized data\n",
    "pca.fit(X)\n",
    "\n",
    "# Plot the explained variance to find the best number of components\n",
    "plt.figure(figsize=(8, 5))\n",
    "plt.plot(range(1, len(pca.explained_variance_ratio_) + 1), np.cumsum(pca.explained_variance_ratio_))\n",
    "plt.xlabel('Number of Components')\n",
    "plt.ylabel('Cumulative Explained Variance')\n",
    "plt.title('Explained Variance by Components')\n",
    "plt.show()\n",
    "\n",
    "# Choose the number of components that explain the desired amount of variance\n",
    "# For example, to retain 95% of the variance, find the number of components that cumulatively explain at least 95%\n",
    "n_components = np.where(np.cumsum(pca.explained_variance_ratio_) >= 0.95)[0][0] + 1\n",
    "\n",
    "# Initialize PCA with the chosen number of components\n",
    "pca = PCA(n_components=n_components)\n",
    "\n",
    "# Fit and transform the standardized data\n",
    "X_pca = pca.fit_transform(X)\n",
    "\n",
    "# Now X_pca contains the reduced number of features"
   ]
  },
  {
   "cell_type": "markdown",
   "id": "f1bdf71b",
   "metadata": {},
   "source": [
    "#### The graph indicates n_components to be between 2 to 4. "
   ]
  },
  {
   "cell_type": "markdown",
   "id": "27e24835",
   "metadata": {},
   "source": [
    "#### Since Leading_Current_Power could still be noise. We will throw it in the GridCV and let it decide."
   ]
  },
  {
   "cell_type": "code",
   "execution_count": 15,
   "id": "a4153803",
   "metadata": {},
   "outputs": [],
   "source": [
    "from sklearn.decomposition import PCA\n",
    "\n",
    "# Define pipeline with feature selector, PCA, and KNN\n",
    "knn_pipeline = Pipeline([\n",
    "    ('feature_selector', FeatureSelector(features=['Lagging_Current_Reactive_Power_kVarh', 'CO2','NSM','Leading_Current_Reactive_Power_kVarh'])),\n",
    "    ('pca', PCA(n_components=4)),  # Reduce dimensionality to 2 components\n",
    "    ('knn', KNeighborsClassifier(n_jobs=-1))\n",
    "])\n",
    "\n"
   ]
  },
  {
   "cell_type": "code",
   "execution_count": 16,
   "id": "bb9864c5",
   "metadata": {
    "scrolled": true
   },
   "outputs": [
    {
     "data": {
      "text/html": [
       "<style>#sk-container-id-1 {color: black;background-color: white;}#sk-container-id-1 pre{padding: 0;}#sk-container-id-1 div.sk-toggleable {background-color: white;}#sk-container-id-1 label.sk-toggleable__label {cursor: pointer;display: block;width: 100%;margin-bottom: 0;padding: 0.3em;box-sizing: border-box;text-align: center;}#sk-container-id-1 label.sk-toggleable__label-arrow:before {content: \"▸\";float: left;margin-right: 0.25em;color: #696969;}#sk-container-id-1 label.sk-toggleable__label-arrow:hover:before {color: black;}#sk-container-id-1 div.sk-estimator:hover label.sk-toggleable__label-arrow:before {color: black;}#sk-container-id-1 div.sk-toggleable__content {max-height: 0;max-width: 0;overflow: hidden;text-align: left;background-color: #f0f8ff;}#sk-container-id-1 div.sk-toggleable__content pre {margin: 0.2em;color: black;border-radius: 0.25em;background-color: #f0f8ff;}#sk-container-id-1 input.sk-toggleable__control:checked~div.sk-toggleable__content {max-height: 200px;max-width: 100%;overflow: auto;}#sk-container-id-1 input.sk-toggleable__control:checked~label.sk-toggleable__label-arrow:before {content: \"▾\";}#sk-container-id-1 div.sk-estimator input.sk-toggleable__control:checked~label.sk-toggleable__label {background-color: #d4ebff;}#sk-container-id-1 div.sk-label input.sk-toggleable__control:checked~label.sk-toggleable__label {background-color: #d4ebff;}#sk-container-id-1 input.sk-hidden--visually {border: 0;clip: rect(1px 1px 1px 1px);clip: rect(1px, 1px, 1px, 1px);height: 1px;margin: -1px;overflow: hidden;padding: 0;position: absolute;width: 1px;}#sk-container-id-1 div.sk-estimator {font-family: monospace;background-color: #f0f8ff;border: 1px dotted black;border-radius: 0.25em;box-sizing: border-box;margin-bottom: 0.5em;}#sk-container-id-1 div.sk-estimator:hover {background-color: #d4ebff;}#sk-container-id-1 div.sk-parallel-item::after {content: \"\";width: 100%;border-bottom: 1px solid gray;flex-grow: 1;}#sk-container-id-1 div.sk-label:hover label.sk-toggleable__label {background-color: #d4ebff;}#sk-container-id-1 div.sk-serial::before {content: \"\";position: absolute;border-left: 1px solid gray;box-sizing: border-box;top: 0;bottom: 0;left: 50%;z-index: 0;}#sk-container-id-1 div.sk-serial {display: flex;flex-direction: column;align-items: center;background-color: white;padding-right: 0.2em;padding-left: 0.2em;position: relative;}#sk-container-id-1 div.sk-item {position: relative;z-index: 1;}#sk-container-id-1 div.sk-parallel {display: flex;align-items: stretch;justify-content: center;background-color: white;position: relative;}#sk-container-id-1 div.sk-item::before, #sk-container-id-1 div.sk-parallel-item::before {content: \"\";position: absolute;border-left: 1px solid gray;box-sizing: border-box;top: 0;bottom: 0;left: 50%;z-index: -1;}#sk-container-id-1 div.sk-parallel-item {display: flex;flex-direction: column;z-index: 1;position: relative;background-color: white;}#sk-container-id-1 div.sk-parallel-item:first-child::after {align-self: flex-end;width: 50%;}#sk-container-id-1 div.sk-parallel-item:last-child::after {align-self: flex-start;width: 50%;}#sk-container-id-1 div.sk-parallel-item:only-child::after {width: 0;}#sk-container-id-1 div.sk-dashed-wrapped {border: 1px dashed gray;margin: 0 0.4em 0.5em 0.4em;box-sizing: border-box;padding-bottom: 0.4em;background-color: white;}#sk-container-id-1 div.sk-label label {font-family: monospace;font-weight: bold;display: inline-block;line-height: 1.2em;}#sk-container-id-1 div.sk-label-container {text-align: center;}#sk-container-id-1 div.sk-container {/* jupyter's `normalize.less` sets `[hidden] { display: none; }` but bootstrap.min.css set `[hidden] { display: none !important; }` so we also need the `!important` here to be able to override the default hidden behavior on the sphinx rendered scikit-learn.org. See: https://github.com/scikit-learn/scikit-learn/issues/21755 */display: inline-block !important;position: relative;}#sk-container-id-1 div.sk-text-repr-fallback {display: none;}</style><div id=\"sk-container-id-1\" class=\"sk-top-container\"><div class=\"sk-text-repr-fallback\"><pre>Pipeline(steps=[(&#x27;feature_selector&#x27;,\n",
       "                 &lt;__main__.FeatureSelector object at 0x000001FCF0C613D0&gt;),\n",
       "                (&#x27;pca&#x27;, PCA(n_components=4)),\n",
       "                (&#x27;knn&#x27;, KNeighborsClassifier(n_jobs=-1))])</pre><b>In a Jupyter environment, please rerun this cell to show the HTML representation or trust the notebook. <br />On GitHub, the HTML representation is unable to render, please try loading this page with nbviewer.org.</b></div><div class=\"sk-container\" hidden><div class=\"sk-item sk-dashed-wrapped\"><div class=\"sk-label-container\"><div class=\"sk-label sk-toggleable\"><input class=\"sk-toggleable__control sk-hidden--visually\" id=\"sk-estimator-id-1\" type=\"checkbox\" ><label for=\"sk-estimator-id-1\" class=\"sk-toggleable__label sk-toggleable__label-arrow\">Pipeline</label><div class=\"sk-toggleable__content\"><pre>Pipeline(steps=[(&#x27;feature_selector&#x27;,\n",
       "                 &lt;__main__.FeatureSelector object at 0x000001FCF0C613D0&gt;),\n",
       "                (&#x27;pca&#x27;, PCA(n_components=4)),\n",
       "                (&#x27;knn&#x27;, KNeighborsClassifier(n_jobs=-1))])</pre></div></div></div><div class=\"sk-serial\"><div class=\"sk-item\"><div class=\"sk-estimator sk-toggleable\"><input class=\"sk-toggleable__control sk-hidden--visually\" id=\"sk-estimator-id-2\" type=\"checkbox\" ><label for=\"sk-estimator-id-2\" class=\"sk-toggleable__label sk-toggleable__label-arrow\">FeatureSelector</label><div class=\"sk-toggleable__content\"><pre>&lt;__main__.FeatureSelector object at 0x000001FCF0C613D0&gt;</pre></div></div></div><div class=\"sk-item\"><div class=\"sk-estimator sk-toggleable\"><input class=\"sk-toggleable__control sk-hidden--visually\" id=\"sk-estimator-id-3\" type=\"checkbox\" ><label for=\"sk-estimator-id-3\" class=\"sk-toggleable__label sk-toggleable__label-arrow\">PCA</label><div class=\"sk-toggleable__content\"><pre>PCA(n_components=4)</pre></div></div></div><div class=\"sk-item\"><div class=\"sk-estimator sk-toggleable\"><input class=\"sk-toggleable__control sk-hidden--visually\" id=\"sk-estimator-id-4\" type=\"checkbox\" ><label for=\"sk-estimator-id-4\" class=\"sk-toggleable__label sk-toggleable__label-arrow\">KNeighborsClassifier</label><div class=\"sk-toggleable__content\"><pre>KNeighborsClassifier(n_jobs=-1)</pre></div></div></div></div></div></div></div>"
      ],
      "text/plain": [
       "Pipeline(steps=[('feature_selector',\n",
       "                 <__main__.FeatureSelector object at 0x000001FCF0C613D0>),\n",
       "                ('pca', PCA(n_components=4)),\n",
       "                ('knn', KNeighborsClassifier(n_jobs=-1))])"
      ]
     },
     "execution_count": 16,
     "metadata": {},
     "output_type": "execute_result"
    }
   ],
   "source": [
    "set_config(display=\"diagram\")\n",
    "knn_pipeline.fit(X_train, y_train)"
   ]
  },
  {
   "cell_type": "code",
   "execution_count": 17,
   "id": "58f818e8",
   "metadata": {},
   "outputs": [
    {
     "name": "stdout",
     "output_type": "stream",
     "text": [
      "Best CV score = 0.990:\n",
      "Best parameters:  {'feature_selector__features': ['Lagging_Current_Reactive_Power_kVarh', 'CO2', 'NSM', 'Leading_Current_Power_Factor'], 'knn__algorithm': 'ball_tree', 'knn__n_neighbors': 3, 'knn__weights': 'uniform'}\n",
      "Including Leading_Current_Power_Factor is better.\n"
     ]
    }
   ],
   "source": [
    "\n",
    "param_grid = {\n",
    "    'feature_selector__features': [\n",
    "        ['Lagging_Current_Reactive_Power_kVarh', 'CO2','NSM'],  # exclude Leading_Current_Power_Factor\n",
    "        ['Lagging_Current_Reactive_Power_kVarh', 'CO2','NSM', 'Leading_Current_Power_Factor']  # include Leading_Current_Power_Factor\n",
    "    ],\n",
    "    'knn__n_neighbors': [3, 5, 10, 15, 20],\n",
    "    'knn__algorithm': ['ball_tree', 'kd_tree', 'brute'],\n",
    "    'knn__weights': ['uniform', 'distance']\n",
    "}\n",
    "\n",
    "# Perform grid search with the updated pipeline and parameter grid\n",
    "search = GridSearchCV(knn_pipeline, param_grid, n_jobs=-1, cv=5, refit=True)\n",
    "search.fit(X_train, y_train) \n",
    "\n",
    "print(\"Best CV score = %0.3f:\" % search.best_score_)\n",
    "print(\"Best parameters: \", search.best_params_)\n",
    "\n",
    "\n",
    "if 'Leading_Current_Power_Factor' in search.best_params_['feature_selector__features']:\n",
    "    print(\"Including Leading_Current_Power_Factor is better.\") \n",
    "else:\n",
    "    print(\"Excluding Leading_Current_Power_Factor is better.\")"
   ]
  },
  {
   "cell_type": "code",
   "execution_count": 18,
   "id": "eeba7a9a",
   "metadata": {},
   "outputs": [
    {
     "name": "stdout",
     "output_type": "stream",
     "text": [
      "ROC score:  0.9889717600560973\n",
      "Accuracy:  0.9794520547945206\n",
      "Precision:  0.9800383302873963\n",
      "F1 score:  0.9794923821818892\n",
      "CV score:  0.9897240537240538\n"
     ]
    }
   ],
   "source": [
    "from sklearn.metrics import roc_auc_score, accuracy_score, precision_score, f1_score, confusion_matrix\n",
    "\n",
    "knn_model = search.best_estimator_\n",
    "\n",
    "y_pred = knn_model.predict(X_test)\n",
    "\n",
    "y_pred_proba = knn_model.predict_proba(X_test)[:, 1]\n",
    "\n",
    "roc_score = roc_auc_score(y_test, y_pred_proba)\n",
    "accuracy = accuracy_score(y_test, y_pred)\n",
    "precision = precision_score(y_test, y_pred, average='weighted')\n",
    "f1 = f1_score(y_test, y_pred, average='weighted')\n",
    "cv_score = search.best_score_\n",
    "\n",
    "print(\"ROC score: \", roc_score)\n",
    "print(\"Accuracy: \", accuracy)\n",
    "print(\"Precision: \", precision)\n",
    "print(\"F1 score: \", f1)\n",
    "print(\"CV score: \", cv_score)\n",
    "\n"
   ]
  },
  {
   "cell_type": "markdown",
   "id": "a01d9234",
   "metadata": {},
   "source": [
    "### Random Forest"
   ]
  },
  {
   "cell_type": "code",
   "execution_count": 19,
   "id": "2b3312c3",
   "metadata": {},
   "outputs": [],
   "source": [
    "# create the pipeline\n",
    "random_forest_pipeline = Pipeline(steps=[('preprocess', preprocess_pipeline),\n",
    "    (\"random_forest\", RandomForestClassifier())\n",
    "])\n"
   ]
  },
  {
   "cell_type": "code",
   "execution_count": 20,
   "id": "7d936454",
   "metadata": {
    "scrolled": true
   },
   "outputs": [
    {
     "data": {
      "text/html": [
       "<style>#sk-container-id-2 {color: black;background-color: white;}#sk-container-id-2 pre{padding: 0;}#sk-container-id-2 div.sk-toggleable {background-color: white;}#sk-container-id-2 label.sk-toggleable__label {cursor: pointer;display: block;width: 100%;margin-bottom: 0;padding: 0.3em;box-sizing: border-box;text-align: center;}#sk-container-id-2 label.sk-toggleable__label-arrow:before {content: \"▸\";float: left;margin-right: 0.25em;color: #696969;}#sk-container-id-2 label.sk-toggleable__label-arrow:hover:before {color: black;}#sk-container-id-2 div.sk-estimator:hover label.sk-toggleable__label-arrow:before {color: black;}#sk-container-id-2 div.sk-toggleable__content {max-height: 0;max-width: 0;overflow: hidden;text-align: left;background-color: #f0f8ff;}#sk-container-id-2 div.sk-toggleable__content pre {margin: 0.2em;color: black;border-radius: 0.25em;background-color: #f0f8ff;}#sk-container-id-2 input.sk-toggleable__control:checked~div.sk-toggleable__content {max-height: 200px;max-width: 100%;overflow: auto;}#sk-container-id-2 input.sk-toggleable__control:checked~label.sk-toggleable__label-arrow:before {content: \"▾\";}#sk-container-id-2 div.sk-estimator input.sk-toggleable__control:checked~label.sk-toggleable__label {background-color: #d4ebff;}#sk-container-id-2 div.sk-label input.sk-toggleable__control:checked~label.sk-toggleable__label {background-color: #d4ebff;}#sk-container-id-2 input.sk-hidden--visually {border: 0;clip: rect(1px 1px 1px 1px);clip: rect(1px, 1px, 1px, 1px);height: 1px;margin: -1px;overflow: hidden;padding: 0;position: absolute;width: 1px;}#sk-container-id-2 div.sk-estimator {font-family: monospace;background-color: #f0f8ff;border: 1px dotted black;border-radius: 0.25em;box-sizing: border-box;margin-bottom: 0.5em;}#sk-container-id-2 div.sk-estimator:hover {background-color: #d4ebff;}#sk-container-id-2 div.sk-parallel-item::after {content: \"\";width: 100%;border-bottom: 1px solid gray;flex-grow: 1;}#sk-container-id-2 div.sk-label:hover label.sk-toggleable__label {background-color: #d4ebff;}#sk-container-id-2 div.sk-serial::before {content: \"\";position: absolute;border-left: 1px solid gray;box-sizing: border-box;top: 0;bottom: 0;left: 50%;z-index: 0;}#sk-container-id-2 div.sk-serial {display: flex;flex-direction: column;align-items: center;background-color: white;padding-right: 0.2em;padding-left: 0.2em;position: relative;}#sk-container-id-2 div.sk-item {position: relative;z-index: 1;}#sk-container-id-2 div.sk-parallel {display: flex;align-items: stretch;justify-content: center;background-color: white;position: relative;}#sk-container-id-2 div.sk-item::before, #sk-container-id-2 div.sk-parallel-item::before {content: \"\";position: absolute;border-left: 1px solid gray;box-sizing: border-box;top: 0;bottom: 0;left: 50%;z-index: -1;}#sk-container-id-2 div.sk-parallel-item {display: flex;flex-direction: column;z-index: 1;position: relative;background-color: white;}#sk-container-id-2 div.sk-parallel-item:first-child::after {align-self: flex-end;width: 50%;}#sk-container-id-2 div.sk-parallel-item:last-child::after {align-self: flex-start;width: 50%;}#sk-container-id-2 div.sk-parallel-item:only-child::after {width: 0;}#sk-container-id-2 div.sk-dashed-wrapped {border: 1px dashed gray;margin: 0 0.4em 0.5em 0.4em;box-sizing: border-box;padding-bottom: 0.4em;background-color: white;}#sk-container-id-2 div.sk-label label {font-family: monospace;font-weight: bold;display: inline-block;line-height: 1.2em;}#sk-container-id-2 div.sk-label-container {text-align: center;}#sk-container-id-2 div.sk-container {/* jupyter's `normalize.less` sets `[hidden] { display: none; }` but bootstrap.min.css set `[hidden] { display: none !important; }` so we also need the `!important` here to be able to override the default hidden behavior on the sphinx rendered scikit-learn.org. See: https://github.com/scikit-learn/scikit-learn/issues/21755 */display: inline-block !important;position: relative;}#sk-container-id-2 div.sk-text-repr-fallback {display: none;}</style><div id=\"sk-container-id-2\" class=\"sk-top-container\"><div class=\"sk-text-repr-fallback\"><pre>Pipeline(steps=[(&#x27;preprocess&#x27;,\n",
       "                 ColumnTransformer(remainder=&#x27;passthrough&#x27;,\n",
       "                                   transformers=[(&#x27;No_Outliers_skewed&#x27;,\n",
       "                                                  Pipeline(steps=[(&#x27;log_transform&#x27;,\n",
       "                                                                   FunctionTransformer(func=&lt;ufunc &#x27;cbrt&#x27;&gt;)),\n",
       "                                                                  (&#x27;scaler&#x27;,\n",
       "                                                                   MinMaxScaler())]),\n",
       "                                                  [&#x27;Lagging_Current_Power_Factor&#x27;,\n",
       "                                                   &#x27;NSM&#x27;]),\n",
       "                                                 (&#x27;Outliers_skewed&#x27;,\n",
       "                                                  Pipeline(steps=[(&#x27;log_transform&#x27;,\n",
       "                                                                   FunctionTransformer(func=&lt;ufunc &#x27;cbrt&#x27;&gt;)),\n",
       "                                                                  (&#x27;scaler&#x27;,\n",
       "                                                                   RobustScaler())]),\n",
       "                                                  [&#x27;CO2&#x27;, &#x27;isWeekend&#x27;, &#x27;Monday&#x27;,\n",
       "                                                   &#x27;Saturday&#x27;, &#x27;Thursday&#x27;,\n",
       "                                                   &#x27;Tuesday&#x27;, &#x27;Wednesday&#x27;,\n",
       "                                                   &#x27;Leading_Current_Power_Factor&#x27;,\n",
       "                                                   &#x27;Lagging_Current_Reactive_Power_kVarh&#x27;,\n",
       "                                                   &#x27;Leading_Current_Reactive_Power_kVarh&#x27;])])),\n",
       "                (&#x27;random_forest&#x27;, RandomForestClassifier())])</pre><b>In a Jupyter environment, please rerun this cell to show the HTML representation or trust the notebook. <br />On GitHub, the HTML representation is unable to render, please try loading this page with nbviewer.org.</b></div><div class=\"sk-container\" hidden><div class=\"sk-item sk-dashed-wrapped\"><div class=\"sk-label-container\"><div class=\"sk-label sk-toggleable\"><input class=\"sk-toggleable__control sk-hidden--visually\" id=\"sk-estimator-id-5\" type=\"checkbox\" ><label for=\"sk-estimator-id-5\" class=\"sk-toggleable__label sk-toggleable__label-arrow\">Pipeline</label><div class=\"sk-toggleable__content\"><pre>Pipeline(steps=[(&#x27;preprocess&#x27;,\n",
       "                 ColumnTransformer(remainder=&#x27;passthrough&#x27;,\n",
       "                                   transformers=[(&#x27;No_Outliers_skewed&#x27;,\n",
       "                                                  Pipeline(steps=[(&#x27;log_transform&#x27;,\n",
       "                                                                   FunctionTransformer(func=&lt;ufunc &#x27;cbrt&#x27;&gt;)),\n",
       "                                                                  (&#x27;scaler&#x27;,\n",
       "                                                                   MinMaxScaler())]),\n",
       "                                                  [&#x27;Lagging_Current_Power_Factor&#x27;,\n",
       "                                                   &#x27;NSM&#x27;]),\n",
       "                                                 (&#x27;Outliers_skewed&#x27;,\n",
       "                                                  Pipeline(steps=[(&#x27;log_transform&#x27;,\n",
       "                                                                   FunctionTransformer(func=&lt;ufunc &#x27;cbrt&#x27;&gt;)),\n",
       "                                                                  (&#x27;scaler&#x27;,\n",
       "                                                                   RobustScaler())]),\n",
       "                                                  [&#x27;CO2&#x27;, &#x27;isWeekend&#x27;, &#x27;Monday&#x27;,\n",
       "                                                   &#x27;Saturday&#x27;, &#x27;Thursday&#x27;,\n",
       "                                                   &#x27;Tuesday&#x27;, &#x27;Wednesday&#x27;,\n",
       "                                                   &#x27;Leading_Current_Power_Factor&#x27;,\n",
       "                                                   &#x27;Lagging_Current_Reactive_Power_kVarh&#x27;,\n",
       "                                                   &#x27;Leading_Current_Reactive_Power_kVarh&#x27;])])),\n",
       "                (&#x27;random_forest&#x27;, RandomForestClassifier())])</pre></div></div></div><div class=\"sk-serial\"><div class=\"sk-item sk-dashed-wrapped\"><div class=\"sk-label-container\"><div class=\"sk-label sk-toggleable\"><input class=\"sk-toggleable__control sk-hidden--visually\" id=\"sk-estimator-id-6\" type=\"checkbox\" ><label for=\"sk-estimator-id-6\" class=\"sk-toggleable__label sk-toggleable__label-arrow\">preprocess: ColumnTransformer</label><div class=\"sk-toggleable__content\"><pre>ColumnTransformer(remainder=&#x27;passthrough&#x27;,\n",
       "                  transformers=[(&#x27;No_Outliers_skewed&#x27;,\n",
       "                                 Pipeline(steps=[(&#x27;log_transform&#x27;,\n",
       "                                                  FunctionTransformer(func=&lt;ufunc &#x27;cbrt&#x27;&gt;)),\n",
       "                                                 (&#x27;scaler&#x27;, MinMaxScaler())]),\n",
       "                                 [&#x27;Lagging_Current_Power_Factor&#x27;, &#x27;NSM&#x27;]),\n",
       "                                (&#x27;Outliers_skewed&#x27;,\n",
       "                                 Pipeline(steps=[(&#x27;log_transform&#x27;,\n",
       "                                                  FunctionTransformer(func=&lt;ufunc &#x27;cbrt&#x27;&gt;)),\n",
       "                                                 (&#x27;scaler&#x27;, RobustScaler())]),\n",
       "                                 [&#x27;CO2&#x27;, &#x27;isWeekend&#x27;, &#x27;Monday&#x27;, &#x27;Saturday&#x27;,\n",
       "                                  &#x27;Thursday&#x27;, &#x27;Tuesday&#x27;, &#x27;Wednesday&#x27;,\n",
       "                                  &#x27;Leading_Current_Power_Factor&#x27;,\n",
       "                                  &#x27;Lagging_Current_Reactive_Power_kVarh&#x27;,\n",
       "                                  &#x27;Leading_Current_Reactive_Power_kVarh&#x27;])])</pre></div></div></div><div class=\"sk-parallel\"><div class=\"sk-parallel-item\"><div class=\"sk-item\"><div class=\"sk-label-container\"><div class=\"sk-label sk-toggleable\"><input class=\"sk-toggleable__control sk-hidden--visually\" id=\"sk-estimator-id-7\" type=\"checkbox\" ><label for=\"sk-estimator-id-7\" class=\"sk-toggleable__label sk-toggleable__label-arrow\">No_Outliers_skewed</label><div class=\"sk-toggleable__content\"><pre>[&#x27;Lagging_Current_Power_Factor&#x27;, &#x27;NSM&#x27;]</pre></div></div></div><div class=\"sk-serial\"><div class=\"sk-item\"><div class=\"sk-serial\"><div class=\"sk-item\"><div class=\"sk-estimator sk-toggleable\"><input class=\"sk-toggleable__control sk-hidden--visually\" id=\"sk-estimator-id-8\" type=\"checkbox\" ><label for=\"sk-estimator-id-8\" class=\"sk-toggleable__label sk-toggleable__label-arrow\">FunctionTransformer</label><div class=\"sk-toggleable__content\"><pre>FunctionTransformer(func=&lt;ufunc &#x27;cbrt&#x27;&gt;)</pre></div></div></div><div class=\"sk-item\"><div class=\"sk-estimator sk-toggleable\"><input class=\"sk-toggleable__control sk-hidden--visually\" id=\"sk-estimator-id-9\" type=\"checkbox\" ><label for=\"sk-estimator-id-9\" class=\"sk-toggleable__label sk-toggleable__label-arrow\">MinMaxScaler</label><div class=\"sk-toggleable__content\"><pre>MinMaxScaler()</pre></div></div></div></div></div></div></div></div><div class=\"sk-parallel-item\"><div class=\"sk-item\"><div class=\"sk-label-container\"><div class=\"sk-label sk-toggleable\"><input class=\"sk-toggleable__control sk-hidden--visually\" id=\"sk-estimator-id-10\" type=\"checkbox\" ><label for=\"sk-estimator-id-10\" class=\"sk-toggleable__label sk-toggleable__label-arrow\">Outliers_skewed</label><div class=\"sk-toggleable__content\"><pre>[&#x27;CO2&#x27;, &#x27;isWeekend&#x27;, &#x27;Monday&#x27;, &#x27;Saturday&#x27;, &#x27;Thursday&#x27;, &#x27;Tuesday&#x27;, &#x27;Wednesday&#x27;, &#x27;Leading_Current_Power_Factor&#x27;, &#x27;Lagging_Current_Reactive_Power_kVarh&#x27;, &#x27;Leading_Current_Reactive_Power_kVarh&#x27;]</pre></div></div></div><div class=\"sk-serial\"><div class=\"sk-item\"><div class=\"sk-serial\"><div class=\"sk-item\"><div class=\"sk-estimator sk-toggleable\"><input class=\"sk-toggleable__control sk-hidden--visually\" id=\"sk-estimator-id-11\" type=\"checkbox\" ><label for=\"sk-estimator-id-11\" class=\"sk-toggleable__label sk-toggleable__label-arrow\">FunctionTransformer</label><div class=\"sk-toggleable__content\"><pre>FunctionTransformer(func=&lt;ufunc &#x27;cbrt&#x27;&gt;)</pre></div></div></div><div class=\"sk-item\"><div class=\"sk-estimator sk-toggleable\"><input class=\"sk-toggleable__control sk-hidden--visually\" id=\"sk-estimator-id-12\" type=\"checkbox\" ><label for=\"sk-estimator-id-12\" class=\"sk-toggleable__label sk-toggleable__label-arrow\">RobustScaler</label><div class=\"sk-toggleable__content\"><pre>RobustScaler()</pre></div></div></div></div></div></div></div></div><div class=\"sk-parallel-item\"><div class=\"sk-item\"><div class=\"sk-label-container\"><div class=\"sk-label sk-toggleable\"><input class=\"sk-toggleable__control sk-hidden--visually\" id=\"sk-estimator-id-13\" type=\"checkbox\" ><label for=\"sk-estimator-id-13\" class=\"sk-toggleable__label sk-toggleable__label-arrow\">remainder</label><div class=\"sk-toggleable__content\"><pre>[&#x27;Unnamed: 0&#x27;, &#x27;Friday&#x27;]</pre></div></div></div><div class=\"sk-serial\"><div class=\"sk-item\"><div class=\"sk-estimator sk-toggleable\"><input class=\"sk-toggleable__control sk-hidden--visually\" id=\"sk-estimator-id-14\" type=\"checkbox\" ><label for=\"sk-estimator-id-14\" class=\"sk-toggleable__label sk-toggleable__label-arrow\">passthrough</label><div class=\"sk-toggleable__content\"><pre>passthrough</pre></div></div></div></div></div></div></div></div><div class=\"sk-item\"><div class=\"sk-estimator sk-toggleable\"><input class=\"sk-toggleable__control sk-hidden--visually\" id=\"sk-estimator-id-15\" type=\"checkbox\" ><label for=\"sk-estimator-id-15\" class=\"sk-toggleable__label sk-toggleable__label-arrow\">RandomForestClassifier</label><div class=\"sk-toggleable__content\"><pre>RandomForestClassifier()</pre></div></div></div></div></div></div></div>"
      ],
      "text/plain": [
       "Pipeline(steps=[('preprocess',\n",
       "                 ColumnTransformer(remainder='passthrough',\n",
       "                                   transformers=[('No_Outliers_skewed',\n",
       "                                                  Pipeline(steps=[('log_transform',\n",
       "                                                                   FunctionTransformer(func=<ufunc 'cbrt'>)),\n",
       "                                                                  ('scaler',\n",
       "                                                                   MinMaxScaler())]),\n",
       "                                                  ['Lagging_Current_Power_Factor',\n",
       "                                                   'NSM']),\n",
       "                                                 ('Outliers_skewed',\n",
       "                                                  Pipeline(steps=[('log_transform',\n",
       "                                                                   FunctionTransformer(func=<ufunc 'cbrt'>)),\n",
       "                                                                  ('scaler',\n",
       "                                                                   RobustScaler())]),\n",
       "                                                  ['CO2', 'isWeekend', 'Monday',\n",
       "                                                   'Saturday', 'Thursday',\n",
       "                                                   'Tuesday', 'Wednesday',\n",
       "                                                   'Leading_Current_Power_Factor',\n",
       "                                                   'Lagging_Current_Reactive_Power_kVarh',\n",
       "                                                   'Leading_Current_Reactive_Power_kVarh'])])),\n",
       "                ('random_forest', RandomForestClassifier())])"
      ]
     },
     "execution_count": 20,
     "metadata": {},
     "output_type": "execute_result"
    }
   ],
   "source": [
    "set_config(display=\"diagram\")\n",
    "random_forest_pipeline.fit(X_train, y_train)"
   ]
  },
  {
   "cell_type": "code",
   "execution_count": 21,
   "id": "eedadff2",
   "metadata": {},
   "outputs": [
    {
     "name": "stdout",
     "output_type": "stream",
     "text": [
      "Including Leading_Current_Power_Factor is better.\n",
      "Random Forest Results with a feature selectore:\n",
      "Best parameters:  {'feature_selector__features': ['Lagging_Current_Reactive_Power_kVarh', 'CO2', 'NSM', 'Leading_Current_Power_Factor'], 'rf__max_depth': 5, 'rf__min_samples_leaf': 5, 'rf__min_samples_split': 2, 'rf__n_estimators': 10}\n",
      "Accuracy: 0.9914\n",
      "AUC-ROC: 0.9991\n",
      "Best CV score = 0.990:\n"
     ]
    }
   ],
   "source": [
    "# Define parameter grid for GridSearchCV\n",
    "pipeline_rf = Pipeline([\n",
    "    ('feature_selector', FeatureSelector(features=['Lagging_Current_Reactive_Power_kVarh', 'CO2', 'NSM'])),\n",
    "    ('rf', RandomForestClassifier())\n",
    "])\n",
    "param_grid_rf = {\n",
    "    'feature_selector__features': [\n",
    "        ['Lagging_Current_Reactive_Power_kVarh', 'CO2', 'NSM'],  # exclude Leading_Current_Power_Factor\n",
    "        ['Lagging_Current_Reactive_Power_kVarh', 'CO2', 'NSM', 'Leading_Current_Power_Factor']  # include Leading_Current_Power_Factor\n",
    "    ],\n",
    "    'rf__n_estimators': [10, 30],\n",
    "    'rf__max_depth': [5, 10],\n",
    "    'rf__min_samples_split': [2, 5],\n",
    "    'rf__min_samples_leaf': [1, 5]\n",
    "}\n",
    "\n",
    "pipeline_rf.fit(X_train, y_train)\n",
    "\n",
    "# Perform GridSearchCV for Random Forest\n",
    "grid_search_rf = GridSearchCV(pipeline_rf, param_grid_rf, cv=5, scoring='accuracy')\n",
    "grid_search_rf.fit(X_train, y_train)\n",
    "\n",
    "# Get the best parameters and the best model for Random Forest\n",
    "best_params_rf = grid_search_rf.best_params_\n",
    "best_model_rf = grid_search_rf.best_estimator_\n",
    "\n",
    "# Get the accuracy of the best model for Random Forest\n",
    "accuracy_rf = grid_search_rf.best_score_\n",
    "\n",
    "# Get the ROC AUC score of the best model for Random Forest\n",
    "y_pred_proba_rf = best_model_rf.predict_proba(X_test)[:, 1]\n",
    "auc_rf = roc_auc_score(y_test, y_pred_proba_rf)\n",
    "\n",
    "\n",
    "# Check which option is better\n",
    "if 'Leading_Current_Power_Factor' in best_params_rf['feature_selector__features']:\n",
    "    print(\"Including Leading_Current_Power_Factor is better.\")\n",
    "else:\n",
    "    print(\"Excluding Leading_Current_Power_Factor is better.\")\n",
    "\n",
    "print(\"Random Forest Results with a feature selectore:\")\n",
    "print(\"Best parameters: \", grid_search_rf.best_params_)\n",
    "print(f\"Accuracy: {accuracy_rf:.4f}\")\n",
    "print(f\"AUC-ROC: {auc_rf:.4f}\")\n",
    "print(\"Best CV score = %0.3f:\" % search.best_score_)"
   ]
  },
  {
   "cell_type": "code",
   "execution_count": 22,
   "id": "c94401f2",
   "metadata": {},
   "outputs": [
    {
     "name": "stdout",
     "output_type": "stream",
     "text": [
      "ROC score:  0.9991181657848325\n",
      "Accuracy:  0.9794520547945206\n",
      "Precision:  0.9800383302873963\n",
      "F1 score:  0.9794923821818892\n",
      "CV score:  0.9914399674399675\n"
     ]
    }
   ],
   "source": [
    "random_forest_model = grid_search_rf.best_estimator_\n",
    "\n",
    "y_pred = random_forest_model.predict(X_test)\n",
    "\n",
    "y_pred_proba = random_forest_model.predict_proba(X_test)[:, 1]\n",
    "\n",
    "roc_score = roc_auc_score(y_test, y_pred_proba)\n",
    "accuracy = accuracy_score(y_test, y_pred)\n",
    "precision = precision_score(y_test, y_pred, average='weighted')\n",
    "f1 = f1_score(y_test, y_pred, average='weighted')\n",
    "cv_score = grid_search_rf.best_score_\n",
    "\n",
    "print(\"ROC score: \", roc_score)\n",
    "print(\"Accuracy: \", accuracy)\n",
    "print(\"Precision: \", precision)\n",
    "print(\"F1 score: \", f1)\n",
    "print(\"CV score: \", cv_score)"
   ]
  },
  {
   "cell_type": "markdown",
   "id": "846c0b8b",
   "metadata": {},
   "source": [
    "### SVM"
   ]
  },
  {
   "cell_type": "code",
   "execution_count": 23,
   "id": "7ad1ae50",
   "metadata": {},
   "outputs": [],
   "source": [
    "# Define pipeline with feature selector and SVM\n",
    "pipeline = Pipeline([\n",
    "        ('feature_selector', FeatureSelector(features=['Lagging_Current_Reactive_Power_kVarh', 'CO2', 'NSM'])),\n",
    "        ('svm', SVC(probability=True))\n",
    "    ])"
   ]
  },
  {
   "cell_type": "code",
   "execution_count": 24,
   "id": "b1676ba1",
   "metadata": {},
   "outputs": [
    {
     "data": {
      "text/html": [
       "<style>#sk-container-id-3 {color: black;background-color: white;}#sk-container-id-3 pre{padding: 0;}#sk-container-id-3 div.sk-toggleable {background-color: white;}#sk-container-id-3 label.sk-toggleable__label {cursor: pointer;display: block;width: 100%;margin-bottom: 0;padding: 0.3em;box-sizing: border-box;text-align: center;}#sk-container-id-3 label.sk-toggleable__label-arrow:before {content: \"▸\";float: left;margin-right: 0.25em;color: #696969;}#sk-container-id-3 label.sk-toggleable__label-arrow:hover:before {color: black;}#sk-container-id-3 div.sk-estimator:hover label.sk-toggleable__label-arrow:before {color: black;}#sk-container-id-3 div.sk-toggleable__content {max-height: 0;max-width: 0;overflow: hidden;text-align: left;background-color: #f0f8ff;}#sk-container-id-3 div.sk-toggleable__content pre {margin: 0.2em;color: black;border-radius: 0.25em;background-color: #f0f8ff;}#sk-container-id-3 input.sk-toggleable__control:checked~div.sk-toggleable__content {max-height: 200px;max-width: 100%;overflow: auto;}#sk-container-id-3 input.sk-toggleable__control:checked~label.sk-toggleable__label-arrow:before {content: \"▾\";}#sk-container-id-3 div.sk-estimator input.sk-toggleable__control:checked~label.sk-toggleable__label {background-color: #d4ebff;}#sk-container-id-3 div.sk-label input.sk-toggleable__control:checked~label.sk-toggleable__label {background-color: #d4ebff;}#sk-container-id-3 input.sk-hidden--visually {border: 0;clip: rect(1px 1px 1px 1px);clip: rect(1px, 1px, 1px, 1px);height: 1px;margin: -1px;overflow: hidden;padding: 0;position: absolute;width: 1px;}#sk-container-id-3 div.sk-estimator {font-family: monospace;background-color: #f0f8ff;border: 1px dotted black;border-radius: 0.25em;box-sizing: border-box;margin-bottom: 0.5em;}#sk-container-id-3 div.sk-estimator:hover {background-color: #d4ebff;}#sk-container-id-3 div.sk-parallel-item::after {content: \"\";width: 100%;border-bottom: 1px solid gray;flex-grow: 1;}#sk-container-id-3 div.sk-label:hover label.sk-toggleable__label {background-color: #d4ebff;}#sk-container-id-3 div.sk-serial::before {content: \"\";position: absolute;border-left: 1px solid gray;box-sizing: border-box;top: 0;bottom: 0;left: 50%;z-index: 0;}#sk-container-id-3 div.sk-serial {display: flex;flex-direction: column;align-items: center;background-color: white;padding-right: 0.2em;padding-left: 0.2em;position: relative;}#sk-container-id-3 div.sk-item {position: relative;z-index: 1;}#sk-container-id-3 div.sk-parallel {display: flex;align-items: stretch;justify-content: center;background-color: white;position: relative;}#sk-container-id-3 div.sk-item::before, #sk-container-id-3 div.sk-parallel-item::before {content: \"\";position: absolute;border-left: 1px solid gray;box-sizing: border-box;top: 0;bottom: 0;left: 50%;z-index: -1;}#sk-container-id-3 div.sk-parallel-item {display: flex;flex-direction: column;z-index: 1;position: relative;background-color: white;}#sk-container-id-3 div.sk-parallel-item:first-child::after {align-self: flex-end;width: 50%;}#sk-container-id-3 div.sk-parallel-item:last-child::after {align-self: flex-start;width: 50%;}#sk-container-id-3 div.sk-parallel-item:only-child::after {width: 0;}#sk-container-id-3 div.sk-dashed-wrapped {border: 1px dashed gray;margin: 0 0.4em 0.5em 0.4em;box-sizing: border-box;padding-bottom: 0.4em;background-color: white;}#sk-container-id-3 div.sk-label label {font-family: monospace;font-weight: bold;display: inline-block;line-height: 1.2em;}#sk-container-id-3 div.sk-label-container {text-align: center;}#sk-container-id-3 div.sk-container {/* jupyter's `normalize.less` sets `[hidden] { display: none; }` but bootstrap.min.css set `[hidden] { display: none !important; }` so we also need the `!important` here to be able to override the default hidden behavior on the sphinx rendered scikit-learn.org. See: https://github.com/scikit-learn/scikit-learn/issues/21755 */display: inline-block !important;position: relative;}#sk-container-id-3 div.sk-text-repr-fallback {display: none;}</style><div id=\"sk-container-id-3\" class=\"sk-top-container\"><div class=\"sk-text-repr-fallback\"><pre>Pipeline(steps=[(&#x27;feature_selector&#x27;,\n",
       "                 &lt;__main__.FeatureSelector object at 0x000001FCF0C0A590&gt;),\n",
       "                (&#x27;svm&#x27;, SVC(probability=True))])</pre><b>In a Jupyter environment, please rerun this cell to show the HTML representation or trust the notebook. <br />On GitHub, the HTML representation is unable to render, please try loading this page with nbviewer.org.</b></div><div class=\"sk-container\" hidden><div class=\"sk-item sk-dashed-wrapped\"><div class=\"sk-label-container\"><div class=\"sk-label sk-toggleable\"><input class=\"sk-toggleable__control sk-hidden--visually\" id=\"sk-estimator-id-16\" type=\"checkbox\" ><label for=\"sk-estimator-id-16\" class=\"sk-toggleable__label sk-toggleable__label-arrow\">Pipeline</label><div class=\"sk-toggleable__content\"><pre>Pipeline(steps=[(&#x27;feature_selector&#x27;,\n",
       "                 &lt;__main__.FeatureSelector object at 0x000001FCF0C0A590&gt;),\n",
       "                (&#x27;svm&#x27;, SVC(probability=True))])</pre></div></div></div><div class=\"sk-serial\"><div class=\"sk-item\"><div class=\"sk-estimator sk-toggleable\"><input class=\"sk-toggleable__control sk-hidden--visually\" id=\"sk-estimator-id-17\" type=\"checkbox\" ><label for=\"sk-estimator-id-17\" class=\"sk-toggleable__label sk-toggleable__label-arrow\">FeatureSelector</label><div class=\"sk-toggleable__content\"><pre>&lt;__main__.FeatureSelector object at 0x000001FCF0C0A590&gt;</pre></div></div></div><div class=\"sk-item\"><div class=\"sk-estimator sk-toggleable\"><input class=\"sk-toggleable__control sk-hidden--visually\" id=\"sk-estimator-id-18\" type=\"checkbox\" ><label for=\"sk-estimator-id-18\" class=\"sk-toggleable__label sk-toggleable__label-arrow\">SVC</label><div class=\"sk-toggleable__content\"><pre>SVC(probability=True)</pre></div></div></div></div></div></div></div>"
      ],
      "text/plain": [
       "Pipeline(steps=[('feature_selector',\n",
       "                 <__main__.FeatureSelector object at 0x000001FCF0C0A590>),\n",
       "                ('svm', SVC(probability=True))])"
      ]
     },
     "execution_count": 24,
     "metadata": {},
     "output_type": "execute_result"
    }
   ],
   "source": [
    "set_config(display=\"diagram\")\n",
    "pipeline.fit(X_train, y_train)"
   ]
  },
  {
   "cell_type": "code",
   "execution_count": 25,
   "id": "f292ed50",
   "metadata": {},
   "outputs": [
    {
     "name": "stdout",
     "output_type": "stream",
     "text": [
      "Including Leading_Current_Power_Factor is better.\n",
      "Best SVM Results with a feature selectore:\n",
      "Best Parameters: {'feature_selector__features': ['Lagging_Current_Reactive_Power_kVarh', 'CO2', 'NSM', 'Leading_Current_Power_Factor'], 'svm__C': 0.1, 'svm__kernel': 'linear'}\n",
      "Accuracy: 0.9908685388685388\n",
      "AUC-ROC: 0.9955\n",
      "Best CV score = 0.990:\n"
     ]
    }
   ],
   "source": [
    "param_grid = {\n",
    "    'feature_selector__features': [\n",
    "        ['Lagging_Current_Reactive_Power_kVarh', 'CO2', 'NSM'],  # exclude Leading_Current_Power_Factor\n",
    "        ['Lagging_Current_Reactive_Power_kVarh', 'CO2', 'NSM', 'Leading_Current_Power_Factor']  # include Leading_Current_Power_Factor\n",
    "    ],\n",
    "    'svm__C': [0.1, 1],\n",
    "    'svm__kernel': ['linear','rbf'],\n",
    "    \n",
    "}\n",
    "        \n",
    "grid_search = GridSearchCV(pipeline, param_grid, cv=5, scoring='accuracy')\n",
    "grid_search.fit(X_train, y_train)\n",
    "\n",
    "best_svm_modelf = grid_search.best_estimator_\n",
    "best_svm_params = grid_search.best_params_\n",
    "\n",
    "# Get the accuracy of the best model\n",
    "accuracy = grid_search.best_score_\n",
    "\n",
    "# Get the ROC AUC score of the best model\n",
    "y_pred_proba = best_svm_modelf.predict_proba(X_test)[:, 1]\n",
    "auc = roc_auc_score(y_test, y_pred_proba)\n",
    "\n",
    "\n",
    "# Check which option is better\n",
    "if 'Leading_Current_Power_Factor' in best_svm_params['feature_selector__features']:\n",
    "    print(\"Including Leading_Current_Power_Factor is better.\")\n",
    "else:\n",
    "    print(\"Excluding Leading_Current_Power_Factor is better.\")\n",
    "\n",
    "print(\"Best SVM Results with a feature selectore:\")\n",
    "print(\"Best Parameters:\", best_svm_params)\n",
    "print(\"Accuracy:\", accuracy)\n",
    "print(f\"AUC-ROC: {auc:.4f}\")\n",
    "print(\"Best CV score = %0.3f:\" % search.best_score_)"
   ]
  },
  {
   "cell_type": "code",
   "execution_count": 26,
   "id": "ce369459",
   "metadata": {
    "scrolled": true
   },
   "outputs": [
    {
     "name": "stdout",
     "output_type": "stream",
     "text": [
      "ROC score:  0.995516457363847\n",
      "Accuracy:  0.9726027397260274\n",
      "Precision:  0.9737692301710306\n",
      "F1 score:  0.9726750875698302\n",
      "CV score:  0.9908685388685388\n"
     ]
    }
   ],
   "source": [
    "from sklearn.metrics import roc_auc_score, accuracy_score, precision_score, f1_score, confusion_matrix\n",
    "\n",
    "SVMmodel = grid_search.best_estimator_\n",
    "\n",
    "y_pred = SVMmodel.predict(X_test)\n",
    "y_pred_proba = SVMmodel.predict_proba(X_test)[:, 1]\n",
    "\n",
    "roc_score = roc_auc_score(y_test, y_pred_proba)\n",
    "accuracy = accuracy_score(y_test, y_pred)\n",
    "precision = precision_score(y_test, y_pred, average='weighted')\n",
    "f1 = f1_score(y_test, y_pred, average='weighted')\n",
    "cv_score = grid_search.best_score_\n",
    "\n",
    "print(\"ROC score: \", roc_score)\n",
    "print(\"Accuracy: \", accuracy)\n",
    "print(\"Precision: \", precision)\n",
    "print(\"F1 score: \", f1)\n",
    "print(\"CV score: \", cv_score)"
   ]
  },
  {
   "cell_type": "markdown",
   "id": "ab80f40c",
   "metadata": {},
   "source": [
    "### MLP Classifier"
   ]
  },
  {
   "cell_type": "code",
   "execution_count": 27,
   "id": "2e034623",
   "metadata": {},
   "outputs": [],
   "source": [
    "mlp_pipeline = Pipeline(steps=[('preprocess', preprocess_pipeline),\n",
    "                               ('mlp', MLPClassifier())\n",
    "                            ])"
   ]
  },
  {
   "cell_type": "code",
   "execution_count": 28,
   "id": "346c8b30",
   "metadata": {},
   "outputs": [
    {
     "data": {
      "text/html": [
       "<style>#sk-container-id-4 {color: black;background-color: white;}#sk-container-id-4 pre{padding: 0;}#sk-container-id-4 div.sk-toggleable {background-color: white;}#sk-container-id-4 label.sk-toggleable__label {cursor: pointer;display: block;width: 100%;margin-bottom: 0;padding: 0.3em;box-sizing: border-box;text-align: center;}#sk-container-id-4 label.sk-toggleable__label-arrow:before {content: \"▸\";float: left;margin-right: 0.25em;color: #696969;}#sk-container-id-4 label.sk-toggleable__label-arrow:hover:before {color: black;}#sk-container-id-4 div.sk-estimator:hover label.sk-toggleable__label-arrow:before {color: black;}#sk-container-id-4 div.sk-toggleable__content {max-height: 0;max-width: 0;overflow: hidden;text-align: left;background-color: #f0f8ff;}#sk-container-id-4 div.sk-toggleable__content pre {margin: 0.2em;color: black;border-radius: 0.25em;background-color: #f0f8ff;}#sk-container-id-4 input.sk-toggleable__control:checked~div.sk-toggleable__content {max-height: 200px;max-width: 100%;overflow: auto;}#sk-container-id-4 input.sk-toggleable__control:checked~label.sk-toggleable__label-arrow:before {content: \"▾\";}#sk-container-id-4 div.sk-estimator input.sk-toggleable__control:checked~label.sk-toggleable__label {background-color: #d4ebff;}#sk-container-id-4 div.sk-label input.sk-toggleable__control:checked~label.sk-toggleable__label {background-color: #d4ebff;}#sk-container-id-4 input.sk-hidden--visually {border: 0;clip: rect(1px 1px 1px 1px);clip: rect(1px, 1px, 1px, 1px);height: 1px;margin: -1px;overflow: hidden;padding: 0;position: absolute;width: 1px;}#sk-container-id-4 div.sk-estimator {font-family: monospace;background-color: #f0f8ff;border: 1px dotted black;border-radius: 0.25em;box-sizing: border-box;margin-bottom: 0.5em;}#sk-container-id-4 div.sk-estimator:hover {background-color: #d4ebff;}#sk-container-id-4 div.sk-parallel-item::after {content: \"\";width: 100%;border-bottom: 1px solid gray;flex-grow: 1;}#sk-container-id-4 div.sk-label:hover label.sk-toggleable__label {background-color: #d4ebff;}#sk-container-id-4 div.sk-serial::before {content: \"\";position: absolute;border-left: 1px solid gray;box-sizing: border-box;top: 0;bottom: 0;left: 50%;z-index: 0;}#sk-container-id-4 div.sk-serial {display: flex;flex-direction: column;align-items: center;background-color: white;padding-right: 0.2em;padding-left: 0.2em;position: relative;}#sk-container-id-4 div.sk-item {position: relative;z-index: 1;}#sk-container-id-4 div.sk-parallel {display: flex;align-items: stretch;justify-content: center;background-color: white;position: relative;}#sk-container-id-4 div.sk-item::before, #sk-container-id-4 div.sk-parallel-item::before {content: \"\";position: absolute;border-left: 1px solid gray;box-sizing: border-box;top: 0;bottom: 0;left: 50%;z-index: -1;}#sk-container-id-4 div.sk-parallel-item {display: flex;flex-direction: column;z-index: 1;position: relative;background-color: white;}#sk-container-id-4 div.sk-parallel-item:first-child::after {align-self: flex-end;width: 50%;}#sk-container-id-4 div.sk-parallel-item:last-child::after {align-self: flex-start;width: 50%;}#sk-container-id-4 div.sk-parallel-item:only-child::after {width: 0;}#sk-container-id-4 div.sk-dashed-wrapped {border: 1px dashed gray;margin: 0 0.4em 0.5em 0.4em;box-sizing: border-box;padding-bottom: 0.4em;background-color: white;}#sk-container-id-4 div.sk-label label {font-family: monospace;font-weight: bold;display: inline-block;line-height: 1.2em;}#sk-container-id-4 div.sk-label-container {text-align: center;}#sk-container-id-4 div.sk-container {/* jupyter's `normalize.less` sets `[hidden] { display: none; }` but bootstrap.min.css set `[hidden] { display: none !important; }` so we also need the `!important` here to be able to override the default hidden behavior on the sphinx rendered scikit-learn.org. See: https://github.com/scikit-learn/scikit-learn/issues/21755 */display: inline-block !important;position: relative;}#sk-container-id-4 div.sk-text-repr-fallback {display: none;}</style><div id=\"sk-container-id-4\" class=\"sk-top-container\"><div class=\"sk-text-repr-fallback\"><pre>Pipeline(steps=[(&#x27;preprocess&#x27;,\n",
       "                 ColumnTransformer(remainder=&#x27;passthrough&#x27;,\n",
       "                                   transformers=[(&#x27;No_Outliers_skewed&#x27;,\n",
       "                                                  Pipeline(steps=[(&#x27;log_transform&#x27;,\n",
       "                                                                   FunctionTransformer(func=&lt;ufunc &#x27;cbrt&#x27;&gt;)),\n",
       "                                                                  (&#x27;scaler&#x27;,\n",
       "                                                                   MinMaxScaler())]),\n",
       "                                                  [&#x27;Lagging_Current_Power_Factor&#x27;,\n",
       "                                                   &#x27;NSM&#x27;]),\n",
       "                                                 (&#x27;Outliers_skewed&#x27;,\n",
       "                                                  Pipeline(steps=[(&#x27;log_transform&#x27;,\n",
       "                                                                   FunctionTransformer(func=&lt;ufunc &#x27;cbrt&#x27;&gt;)),\n",
       "                                                                  (&#x27;scaler&#x27;,\n",
       "                                                                   RobustScaler())]),\n",
       "                                                  [&#x27;CO2&#x27;, &#x27;isWeekend&#x27;, &#x27;Monday&#x27;,\n",
       "                                                   &#x27;Saturday&#x27;, &#x27;Thursday&#x27;,\n",
       "                                                   &#x27;Tuesday&#x27;, &#x27;Wednesday&#x27;,\n",
       "                                                   &#x27;Leading_Current_Power_Factor&#x27;,\n",
       "                                                   &#x27;Lagging_Current_Reactive_Power_kVarh&#x27;,\n",
       "                                                   &#x27;Leading_Current_Reactive_Power_kVarh&#x27;])])),\n",
       "                (&#x27;mlp&#x27;, MLPClassifier())])</pre><b>In a Jupyter environment, please rerun this cell to show the HTML representation or trust the notebook. <br />On GitHub, the HTML representation is unable to render, please try loading this page with nbviewer.org.</b></div><div class=\"sk-container\" hidden><div class=\"sk-item sk-dashed-wrapped\"><div class=\"sk-label-container\"><div class=\"sk-label sk-toggleable\"><input class=\"sk-toggleable__control sk-hidden--visually\" id=\"sk-estimator-id-19\" type=\"checkbox\" ><label for=\"sk-estimator-id-19\" class=\"sk-toggleable__label sk-toggleable__label-arrow\">Pipeline</label><div class=\"sk-toggleable__content\"><pre>Pipeline(steps=[(&#x27;preprocess&#x27;,\n",
       "                 ColumnTransformer(remainder=&#x27;passthrough&#x27;,\n",
       "                                   transformers=[(&#x27;No_Outliers_skewed&#x27;,\n",
       "                                                  Pipeline(steps=[(&#x27;log_transform&#x27;,\n",
       "                                                                   FunctionTransformer(func=&lt;ufunc &#x27;cbrt&#x27;&gt;)),\n",
       "                                                                  (&#x27;scaler&#x27;,\n",
       "                                                                   MinMaxScaler())]),\n",
       "                                                  [&#x27;Lagging_Current_Power_Factor&#x27;,\n",
       "                                                   &#x27;NSM&#x27;]),\n",
       "                                                 (&#x27;Outliers_skewed&#x27;,\n",
       "                                                  Pipeline(steps=[(&#x27;log_transform&#x27;,\n",
       "                                                                   FunctionTransformer(func=&lt;ufunc &#x27;cbrt&#x27;&gt;)),\n",
       "                                                                  (&#x27;scaler&#x27;,\n",
       "                                                                   RobustScaler())]),\n",
       "                                                  [&#x27;CO2&#x27;, &#x27;isWeekend&#x27;, &#x27;Monday&#x27;,\n",
       "                                                   &#x27;Saturday&#x27;, &#x27;Thursday&#x27;,\n",
       "                                                   &#x27;Tuesday&#x27;, &#x27;Wednesday&#x27;,\n",
       "                                                   &#x27;Leading_Current_Power_Factor&#x27;,\n",
       "                                                   &#x27;Lagging_Current_Reactive_Power_kVarh&#x27;,\n",
       "                                                   &#x27;Leading_Current_Reactive_Power_kVarh&#x27;])])),\n",
       "                (&#x27;mlp&#x27;, MLPClassifier())])</pre></div></div></div><div class=\"sk-serial\"><div class=\"sk-item sk-dashed-wrapped\"><div class=\"sk-label-container\"><div class=\"sk-label sk-toggleable\"><input class=\"sk-toggleable__control sk-hidden--visually\" id=\"sk-estimator-id-20\" type=\"checkbox\" ><label for=\"sk-estimator-id-20\" class=\"sk-toggleable__label sk-toggleable__label-arrow\">preprocess: ColumnTransformer</label><div class=\"sk-toggleable__content\"><pre>ColumnTransformer(remainder=&#x27;passthrough&#x27;,\n",
       "                  transformers=[(&#x27;No_Outliers_skewed&#x27;,\n",
       "                                 Pipeline(steps=[(&#x27;log_transform&#x27;,\n",
       "                                                  FunctionTransformer(func=&lt;ufunc &#x27;cbrt&#x27;&gt;)),\n",
       "                                                 (&#x27;scaler&#x27;, MinMaxScaler())]),\n",
       "                                 [&#x27;Lagging_Current_Power_Factor&#x27;, &#x27;NSM&#x27;]),\n",
       "                                (&#x27;Outliers_skewed&#x27;,\n",
       "                                 Pipeline(steps=[(&#x27;log_transform&#x27;,\n",
       "                                                  FunctionTransformer(func=&lt;ufunc &#x27;cbrt&#x27;&gt;)),\n",
       "                                                 (&#x27;scaler&#x27;, RobustScaler())]),\n",
       "                                 [&#x27;CO2&#x27;, &#x27;isWeekend&#x27;, &#x27;Monday&#x27;, &#x27;Saturday&#x27;,\n",
       "                                  &#x27;Thursday&#x27;, &#x27;Tuesday&#x27;, &#x27;Wednesday&#x27;,\n",
       "                                  &#x27;Leading_Current_Power_Factor&#x27;,\n",
       "                                  &#x27;Lagging_Current_Reactive_Power_kVarh&#x27;,\n",
       "                                  &#x27;Leading_Current_Reactive_Power_kVarh&#x27;])])</pre></div></div></div><div class=\"sk-parallel\"><div class=\"sk-parallel-item\"><div class=\"sk-item\"><div class=\"sk-label-container\"><div class=\"sk-label sk-toggleable\"><input class=\"sk-toggleable__control sk-hidden--visually\" id=\"sk-estimator-id-21\" type=\"checkbox\" ><label for=\"sk-estimator-id-21\" class=\"sk-toggleable__label sk-toggleable__label-arrow\">No_Outliers_skewed</label><div class=\"sk-toggleable__content\"><pre>[&#x27;Lagging_Current_Power_Factor&#x27;, &#x27;NSM&#x27;]</pre></div></div></div><div class=\"sk-serial\"><div class=\"sk-item\"><div class=\"sk-serial\"><div class=\"sk-item\"><div class=\"sk-estimator sk-toggleable\"><input class=\"sk-toggleable__control sk-hidden--visually\" id=\"sk-estimator-id-22\" type=\"checkbox\" ><label for=\"sk-estimator-id-22\" class=\"sk-toggleable__label sk-toggleable__label-arrow\">FunctionTransformer</label><div class=\"sk-toggleable__content\"><pre>FunctionTransformer(func=&lt;ufunc &#x27;cbrt&#x27;&gt;)</pre></div></div></div><div class=\"sk-item\"><div class=\"sk-estimator sk-toggleable\"><input class=\"sk-toggleable__control sk-hidden--visually\" id=\"sk-estimator-id-23\" type=\"checkbox\" ><label for=\"sk-estimator-id-23\" class=\"sk-toggleable__label sk-toggleable__label-arrow\">MinMaxScaler</label><div class=\"sk-toggleable__content\"><pre>MinMaxScaler()</pre></div></div></div></div></div></div></div></div><div class=\"sk-parallel-item\"><div class=\"sk-item\"><div class=\"sk-label-container\"><div class=\"sk-label sk-toggleable\"><input class=\"sk-toggleable__control sk-hidden--visually\" id=\"sk-estimator-id-24\" type=\"checkbox\" ><label for=\"sk-estimator-id-24\" class=\"sk-toggleable__label sk-toggleable__label-arrow\">Outliers_skewed</label><div class=\"sk-toggleable__content\"><pre>[&#x27;CO2&#x27;, &#x27;isWeekend&#x27;, &#x27;Monday&#x27;, &#x27;Saturday&#x27;, &#x27;Thursday&#x27;, &#x27;Tuesday&#x27;, &#x27;Wednesday&#x27;, &#x27;Leading_Current_Power_Factor&#x27;, &#x27;Lagging_Current_Reactive_Power_kVarh&#x27;, &#x27;Leading_Current_Reactive_Power_kVarh&#x27;]</pre></div></div></div><div class=\"sk-serial\"><div class=\"sk-item\"><div class=\"sk-serial\"><div class=\"sk-item\"><div class=\"sk-estimator sk-toggleable\"><input class=\"sk-toggleable__control sk-hidden--visually\" id=\"sk-estimator-id-25\" type=\"checkbox\" ><label for=\"sk-estimator-id-25\" class=\"sk-toggleable__label sk-toggleable__label-arrow\">FunctionTransformer</label><div class=\"sk-toggleable__content\"><pre>FunctionTransformer(func=&lt;ufunc &#x27;cbrt&#x27;&gt;)</pre></div></div></div><div class=\"sk-item\"><div class=\"sk-estimator sk-toggleable\"><input class=\"sk-toggleable__control sk-hidden--visually\" id=\"sk-estimator-id-26\" type=\"checkbox\" ><label for=\"sk-estimator-id-26\" class=\"sk-toggleable__label sk-toggleable__label-arrow\">RobustScaler</label><div class=\"sk-toggleable__content\"><pre>RobustScaler()</pre></div></div></div></div></div></div></div></div><div class=\"sk-parallel-item\"><div class=\"sk-item\"><div class=\"sk-label-container\"><div class=\"sk-label sk-toggleable\"><input class=\"sk-toggleable__control sk-hidden--visually\" id=\"sk-estimator-id-27\" type=\"checkbox\" ><label for=\"sk-estimator-id-27\" class=\"sk-toggleable__label sk-toggleable__label-arrow\">remainder</label><div class=\"sk-toggleable__content\"><pre>[&#x27;Unnamed: 0&#x27;, &#x27;Friday&#x27;]</pre></div></div></div><div class=\"sk-serial\"><div class=\"sk-item\"><div class=\"sk-estimator sk-toggleable\"><input class=\"sk-toggleable__control sk-hidden--visually\" id=\"sk-estimator-id-28\" type=\"checkbox\" ><label for=\"sk-estimator-id-28\" class=\"sk-toggleable__label sk-toggleable__label-arrow\">passthrough</label><div class=\"sk-toggleable__content\"><pre>passthrough</pre></div></div></div></div></div></div></div></div><div class=\"sk-item\"><div class=\"sk-estimator sk-toggleable\"><input class=\"sk-toggleable__control sk-hidden--visually\" id=\"sk-estimator-id-29\" type=\"checkbox\" ><label for=\"sk-estimator-id-29\" class=\"sk-toggleable__label sk-toggleable__label-arrow\">MLPClassifier</label><div class=\"sk-toggleable__content\"><pre>MLPClassifier()</pre></div></div></div></div></div></div></div>"
      ],
      "text/plain": [
       "Pipeline(steps=[('preprocess',\n",
       "                 ColumnTransformer(remainder='passthrough',\n",
       "                                   transformers=[('No_Outliers_skewed',\n",
       "                                                  Pipeline(steps=[('log_transform',\n",
       "                                                                   FunctionTransformer(func=<ufunc 'cbrt'>)),\n",
       "                                                                  ('scaler',\n",
       "                                                                   MinMaxScaler())]),\n",
       "                                                  ['Lagging_Current_Power_Factor',\n",
       "                                                   'NSM']),\n",
       "                                                 ('Outliers_skewed',\n",
       "                                                  Pipeline(steps=[('log_transform',\n",
       "                                                                   FunctionTransformer(func=<ufunc 'cbrt'>)),\n",
       "                                                                  ('scaler',\n",
       "                                                                   RobustScaler())]),\n",
       "                                                  ['CO2', 'isWeekend', 'Monday',\n",
       "                                                   'Saturday', 'Thursday',\n",
       "                                                   'Tuesday', 'Wednesday',\n",
       "                                                   'Leading_Current_Power_Factor',\n",
       "                                                   'Lagging_Current_Reactive_Power_kVarh',\n",
       "                                                   'Leading_Current_Reactive_Power_kVarh'])])),\n",
       "                ('mlp', MLPClassifier())])"
      ]
     },
     "execution_count": 28,
     "metadata": {},
     "output_type": "execute_result"
    }
   ],
   "source": [
    "set_config(display=\"diagram\")\n",
    "mlp_pipeline.fit(X_train, y_train)"
   ]
  },
  {
   "cell_type": "code",
   "execution_count": 29,
   "id": "8c9576b6",
   "metadata": {
    "scrolled": true
   },
   "outputs": [
    {
     "name": "stdout",
     "output_type": "stream",
     "text": [
      "Best CV score = 0.979:\n",
      "Best parameters:  {'mlp__activation': 'logistic', 'mlp__learning_rate_init': 0.001, 'mlp__max_iter': 300}\n"
     ]
    }
   ],
   "source": [
    "param_grid = {\n",
    "    'mlp__learning_rate_init' : [0.001,0.01,0.1],\n",
    "    'mlp__max_iter': [200, 300, 400],\n",
    "    'mlp__activation': ['logistic', 'relu']\n",
    "}\n",
    "\n",
    "search = GridSearchCV(mlp_pipeline, param_grid, n_jobs=-1, cv=5, refit=True)\n",
    "search.fit(X_train, y_train)\n",
    "print(\"Best CV score = %0.3f:\" % search.best_score_)\n",
    "print(\"Best parameters: \", search.best_params_)\n",
    "\n",
    "# store the best params and best model for later use\n",
    "MLP_best_params = search.best_params_\n",
    "MLP_best_model = search.best_estimator_"
   ]
  },
  {
   "cell_type": "code",
   "execution_count": 30,
   "id": "941b7697",
   "metadata": {},
   "outputs": [
    {
     "name": "stdout",
     "output_type": "stream",
     "text": [
      "ROC score:  0.9973438728458809\n",
      "Accuracy:  0.9748858447488584\n",
      "Precision:  0.9754876194789022\n",
      "F1 score:  0.9749351337778646\n",
      "CV score:  0.9788897028897029\n"
     ]
    }
   ],
   "source": [
    "from sklearn.metrics import roc_auc_score, accuracy_score, precision_score, f1_score, confusion_matrix\n",
    "\n",
    "MLP_best_model = search.best_estimator_\n",
    "\n",
    "y_pred = MLP_best_model.predict(X_test)\n",
    "y_pred_proba = MLP_best_model.predict_proba(X_test)[:, 1]\n",
    "\n",
    "roc_score = roc_auc_score(y_test, y_pred_proba)\n",
    "accuracy = accuracy_score(y_test, y_pred)\n",
    "precision = precision_score(y_test, y_pred, average='weighted')\n",
    "f1 = f1_score(y_test, y_pred, average='weighted')\n",
    "cv_score = search.best_score_\n",
    "\n",
    "print(\"ROC score: \", roc_score)\n",
    "print(\"Accuracy: \", accuracy)\n",
    "print(\"Precision: \", precision)\n",
    "print(\"F1 score: \", f1)\n",
    "print(\"CV score: \", cv_score)"
   ]
  },
  {
   "cell_type": "markdown",
   "id": "83d87ec4",
   "metadata": {},
   "source": [
    "### Naive Bayes Classifier"
   ]
  },
  {
   "cell_type": "code",
   "execution_count": 31,
   "id": "26ee632a",
   "metadata": {
    "scrolled": false
   },
   "outputs": [],
   "source": [
    "nvb_pipeline = Pipeline(steps=[('preprocess', preprocess_pipeline), ('nb', GaussianNB())])"
   ]
  },
  {
   "cell_type": "code",
   "execution_count": 32,
   "id": "0cf0fc67",
   "metadata": {},
   "outputs": [
    {
     "data": {
      "text/html": [
       "<style>#sk-container-id-5 {color: black;background-color: white;}#sk-container-id-5 pre{padding: 0;}#sk-container-id-5 div.sk-toggleable {background-color: white;}#sk-container-id-5 label.sk-toggleable__label {cursor: pointer;display: block;width: 100%;margin-bottom: 0;padding: 0.3em;box-sizing: border-box;text-align: center;}#sk-container-id-5 label.sk-toggleable__label-arrow:before {content: \"▸\";float: left;margin-right: 0.25em;color: #696969;}#sk-container-id-5 label.sk-toggleable__label-arrow:hover:before {color: black;}#sk-container-id-5 div.sk-estimator:hover label.sk-toggleable__label-arrow:before {color: black;}#sk-container-id-5 div.sk-toggleable__content {max-height: 0;max-width: 0;overflow: hidden;text-align: left;background-color: #f0f8ff;}#sk-container-id-5 div.sk-toggleable__content pre {margin: 0.2em;color: black;border-radius: 0.25em;background-color: #f0f8ff;}#sk-container-id-5 input.sk-toggleable__control:checked~div.sk-toggleable__content {max-height: 200px;max-width: 100%;overflow: auto;}#sk-container-id-5 input.sk-toggleable__control:checked~label.sk-toggleable__label-arrow:before {content: \"▾\";}#sk-container-id-5 div.sk-estimator input.sk-toggleable__control:checked~label.sk-toggleable__label {background-color: #d4ebff;}#sk-container-id-5 div.sk-label input.sk-toggleable__control:checked~label.sk-toggleable__label {background-color: #d4ebff;}#sk-container-id-5 input.sk-hidden--visually {border: 0;clip: rect(1px 1px 1px 1px);clip: rect(1px, 1px, 1px, 1px);height: 1px;margin: -1px;overflow: hidden;padding: 0;position: absolute;width: 1px;}#sk-container-id-5 div.sk-estimator {font-family: monospace;background-color: #f0f8ff;border: 1px dotted black;border-radius: 0.25em;box-sizing: border-box;margin-bottom: 0.5em;}#sk-container-id-5 div.sk-estimator:hover {background-color: #d4ebff;}#sk-container-id-5 div.sk-parallel-item::after {content: \"\";width: 100%;border-bottom: 1px solid gray;flex-grow: 1;}#sk-container-id-5 div.sk-label:hover label.sk-toggleable__label {background-color: #d4ebff;}#sk-container-id-5 div.sk-serial::before {content: \"\";position: absolute;border-left: 1px solid gray;box-sizing: border-box;top: 0;bottom: 0;left: 50%;z-index: 0;}#sk-container-id-5 div.sk-serial {display: flex;flex-direction: column;align-items: center;background-color: white;padding-right: 0.2em;padding-left: 0.2em;position: relative;}#sk-container-id-5 div.sk-item {position: relative;z-index: 1;}#sk-container-id-5 div.sk-parallel {display: flex;align-items: stretch;justify-content: center;background-color: white;position: relative;}#sk-container-id-5 div.sk-item::before, #sk-container-id-5 div.sk-parallel-item::before {content: \"\";position: absolute;border-left: 1px solid gray;box-sizing: border-box;top: 0;bottom: 0;left: 50%;z-index: -1;}#sk-container-id-5 div.sk-parallel-item {display: flex;flex-direction: column;z-index: 1;position: relative;background-color: white;}#sk-container-id-5 div.sk-parallel-item:first-child::after {align-self: flex-end;width: 50%;}#sk-container-id-5 div.sk-parallel-item:last-child::after {align-self: flex-start;width: 50%;}#sk-container-id-5 div.sk-parallel-item:only-child::after {width: 0;}#sk-container-id-5 div.sk-dashed-wrapped {border: 1px dashed gray;margin: 0 0.4em 0.5em 0.4em;box-sizing: border-box;padding-bottom: 0.4em;background-color: white;}#sk-container-id-5 div.sk-label label {font-family: monospace;font-weight: bold;display: inline-block;line-height: 1.2em;}#sk-container-id-5 div.sk-label-container {text-align: center;}#sk-container-id-5 div.sk-container {/* jupyter's `normalize.less` sets `[hidden] { display: none; }` but bootstrap.min.css set `[hidden] { display: none !important; }` so we also need the `!important` here to be able to override the default hidden behavior on the sphinx rendered scikit-learn.org. See: https://github.com/scikit-learn/scikit-learn/issues/21755 */display: inline-block !important;position: relative;}#sk-container-id-5 div.sk-text-repr-fallback {display: none;}</style><div id=\"sk-container-id-5\" class=\"sk-top-container\"><div class=\"sk-text-repr-fallback\"><pre>Pipeline(steps=[(&#x27;preprocess&#x27;,\n",
       "                 ColumnTransformer(remainder=&#x27;passthrough&#x27;,\n",
       "                                   transformers=[(&#x27;No_Outliers_skewed&#x27;,\n",
       "                                                  Pipeline(steps=[(&#x27;log_transform&#x27;,\n",
       "                                                                   FunctionTransformer(func=&lt;ufunc &#x27;cbrt&#x27;&gt;)),\n",
       "                                                                  (&#x27;scaler&#x27;,\n",
       "                                                                   MinMaxScaler())]),\n",
       "                                                  [&#x27;Lagging_Current_Power_Factor&#x27;,\n",
       "                                                   &#x27;NSM&#x27;]),\n",
       "                                                 (&#x27;Outliers_skewed&#x27;,\n",
       "                                                  Pipeline(steps=[(&#x27;log_transform&#x27;,\n",
       "                                                                   FunctionTransformer(func=&lt;ufunc &#x27;cbrt&#x27;&gt;)),\n",
       "                                                                  (&#x27;scaler&#x27;,\n",
       "                                                                   RobustScaler())]),\n",
       "                                                  [&#x27;CO2&#x27;, &#x27;isWeekend&#x27;, &#x27;Monday&#x27;,\n",
       "                                                   &#x27;Saturday&#x27;, &#x27;Thursday&#x27;,\n",
       "                                                   &#x27;Tuesday&#x27;, &#x27;Wednesday&#x27;,\n",
       "                                                   &#x27;Leading_Current_Power_Factor&#x27;,\n",
       "                                                   &#x27;Lagging_Current_Reactive_Power_kVarh&#x27;,\n",
       "                                                   &#x27;Leading_Current_Reactive_Power_kVarh&#x27;])])),\n",
       "                (&#x27;nb&#x27;, GaussianNB())])</pre><b>In a Jupyter environment, please rerun this cell to show the HTML representation or trust the notebook. <br />On GitHub, the HTML representation is unable to render, please try loading this page with nbviewer.org.</b></div><div class=\"sk-container\" hidden><div class=\"sk-item sk-dashed-wrapped\"><div class=\"sk-label-container\"><div class=\"sk-label sk-toggleable\"><input class=\"sk-toggleable__control sk-hidden--visually\" id=\"sk-estimator-id-30\" type=\"checkbox\" ><label for=\"sk-estimator-id-30\" class=\"sk-toggleable__label sk-toggleable__label-arrow\">Pipeline</label><div class=\"sk-toggleable__content\"><pre>Pipeline(steps=[(&#x27;preprocess&#x27;,\n",
       "                 ColumnTransformer(remainder=&#x27;passthrough&#x27;,\n",
       "                                   transformers=[(&#x27;No_Outliers_skewed&#x27;,\n",
       "                                                  Pipeline(steps=[(&#x27;log_transform&#x27;,\n",
       "                                                                   FunctionTransformer(func=&lt;ufunc &#x27;cbrt&#x27;&gt;)),\n",
       "                                                                  (&#x27;scaler&#x27;,\n",
       "                                                                   MinMaxScaler())]),\n",
       "                                                  [&#x27;Lagging_Current_Power_Factor&#x27;,\n",
       "                                                   &#x27;NSM&#x27;]),\n",
       "                                                 (&#x27;Outliers_skewed&#x27;,\n",
       "                                                  Pipeline(steps=[(&#x27;log_transform&#x27;,\n",
       "                                                                   FunctionTransformer(func=&lt;ufunc &#x27;cbrt&#x27;&gt;)),\n",
       "                                                                  (&#x27;scaler&#x27;,\n",
       "                                                                   RobustScaler())]),\n",
       "                                                  [&#x27;CO2&#x27;, &#x27;isWeekend&#x27;, &#x27;Monday&#x27;,\n",
       "                                                   &#x27;Saturday&#x27;, &#x27;Thursday&#x27;,\n",
       "                                                   &#x27;Tuesday&#x27;, &#x27;Wednesday&#x27;,\n",
       "                                                   &#x27;Leading_Current_Power_Factor&#x27;,\n",
       "                                                   &#x27;Lagging_Current_Reactive_Power_kVarh&#x27;,\n",
       "                                                   &#x27;Leading_Current_Reactive_Power_kVarh&#x27;])])),\n",
       "                (&#x27;nb&#x27;, GaussianNB())])</pre></div></div></div><div class=\"sk-serial\"><div class=\"sk-item sk-dashed-wrapped\"><div class=\"sk-label-container\"><div class=\"sk-label sk-toggleable\"><input class=\"sk-toggleable__control sk-hidden--visually\" id=\"sk-estimator-id-31\" type=\"checkbox\" ><label for=\"sk-estimator-id-31\" class=\"sk-toggleable__label sk-toggleable__label-arrow\">preprocess: ColumnTransformer</label><div class=\"sk-toggleable__content\"><pre>ColumnTransformer(remainder=&#x27;passthrough&#x27;,\n",
       "                  transformers=[(&#x27;No_Outliers_skewed&#x27;,\n",
       "                                 Pipeline(steps=[(&#x27;log_transform&#x27;,\n",
       "                                                  FunctionTransformer(func=&lt;ufunc &#x27;cbrt&#x27;&gt;)),\n",
       "                                                 (&#x27;scaler&#x27;, MinMaxScaler())]),\n",
       "                                 [&#x27;Lagging_Current_Power_Factor&#x27;, &#x27;NSM&#x27;]),\n",
       "                                (&#x27;Outliers_skewed&#x27;,\n",
       "                                 Pipeline(steps=[(&#x27;log_transform&#x27;,\n",
       "                                                  FunctionTransformer(func=&lt;ufunc &#x27;cbrt&#x27;&gt;)),\n",
       "                                                 (&#x27;scaler&#x27;, RobustScaler())]),\n",
       "                                 [&#x27;CO2&#x27;, &#x27;isWeekend&#x27;, &#x27;Monday&#x27;, &#x27;Saturday&#x27;,\n",
       "                                  &#x27;Thursday&#x27;, &#x27;Tuesday&#x27;, &#x27;Wednesday&#x27;,\n",
       "                                  &#x27;Leading_Current_Power_Factor&#x27;,\n",
       "                                  &#x27;Lagging_Current_Reactive_Power_kVarh&#x27;,\n",
       "                                  &#x27;Leading_Current_Reactive_Power_kVarh&#x27;])])</pre></div></div></div><div class=\"sk-parallel\"><div class=\"sk-parallel-item\"><div class=\"sk-item\"><div class=\"sk-label-container\"><div class=\"sk-label sk-toggleable\"><input class=\"sk-toggleable__control sk-hidden--visually\" id=\"sk-estimator-id-32\" type=\"checkbox\" ><label for=\"sk-estimator-id-32\" class=\"sk-toggleable__label sk-toggleable__label-arrow\">No_Outliers_skewed</label><div class=\"sk-toggleable__content\"><pre>[&#x27;Lagging_Current_Power_Factor&#x27;, &#x27;NSM&#x27;]</pre></div></div></div><div class=\"sk-serial\"><div class=\"sk-item\"><div class=\"sk-serial\"><div class=\"sk-item\"><div class=\"sk-estimator sk-toggleable\"><input class=\"sk-toggleable__control sk-hidden--visually\" id=\"sk-estimator-id-33\" type=\"checkbox\" ><label for=\"sk-estimator-id-33\" class=\"sk-toggleable__label sk-toggleable__label-arrow\">FunctionTransformer</label><div class=\"sk-toggleable__content\"><pre>FunctionTransformer(func=&lt;ufunc &#x27;cbrt&#x27;&gt;)</pre></div></div></div><div class=\"sk-item\"><div class=\"sk-estimator sk-toggleable\"><input class=\"sk-toggleable__control sk-hidden--visually\" id=\"sk-estimator-id-34\" type=\"checkbox\" ><label for=\"sk-estimator-id-34\" class=\"sk-toggleable__label sk-toggleable__label-arrow\">MinMaxScaler</label><div class=\"sk-toggleable__content\"><pre>MinMaxScaler()</pre></div></div></div></div></div></div></div></div><div class=\"sk-parallel-item\"><div class=\"sk-item\"><div class=\"sk-label-container\"><div class=\"sk-label sk-toggleable\"><input class=\"sk-toggleable__control sk-hidden--visually\" id=\"sk-estimator-id-35\" type=\"checkbox\" ><label for=\"sk-estimator-id-35\" class=\"sk-toggleable__label sk-toggleable__label-arrow\">Outliers_skewed</label><div class=\"sk-toggleable__content\"><pre>[&#x27;CO2&#x27;, &#x27;isWeekend&#x27;, &#x27;Monday&#x27;, &#x27;Saturday&#x27;, &#x27;Thursday&#x27;, &#x27;Tuesday&#x27;, &#x27;Wednesday&#x27;, &#x27;Leading_Current_Power_Factor&#x27;, &#x27;Lagging_Current_Reactive_Power_kVarh&#x27;, &#x27;Leading_Current_Reactive_Power_kVarh&#x27;]</pre></div></div></div><div class=\"sk-serial\"><div class=\"sk-item\"><div class=\"sk-serial\"><div class=\"sk-item\"><div class=\"sk-estimator sk-toggleable\"><input class=\"sk-toggleable__control sk-hidden--visually\" id=\"sk-estimator-id-36\" type=\"checkbox\" ><label for=\"sk-estimator-id-36\" class=\"sk-toggleable__label sk-toggleable__label-arrow\">FunctionTransformer</label><div class=\"sk-toggleable__content\"><pre>FunctionTransformer(func=&lt;ufunc &#x27;cbrt&#x27;&gt;)</pre></div></div></div><div class=\"sk-item\"><div class=\"sk-estimator sk-toggleable\"><input class=\"sk-toggleable__control sk-hidden--visually\" id=\"sk-estimator-id-37\" type=\"checkbox\" ><label for=\"sk-estimator-id-37\" class=\"sk-toggleable__label sk-toggleable__label-arrow\">RobustScaler</label><div class=\"sk-toggleable__content\"><pre>RobustScaler()</pre></div></div></div></div></div></div></div></div><div class=\"sk-parallel-item\"><div class=\"sk-item\"><div class=\"sk-label-container\"><div class=\"sk-label sk-toggleable\"><input class=\"sk-toggleable__control sk-hidden--visually\" id=\"sk-estimator-id-38\" type=\"checkbox\" ><label for=\"sk-estimator-id-38\" class=\"sk-toggleable__label sk-toggleable__label-arrow\">remainder</label><div class=\"sk-toggleable__content\"><pre>[&#x27;Unnamed: 0&#x27;, &#x27;Friday&#x27;]</pre></div></div></div><div class=\"sk-serial\"><div class=\"sk-item\"><div class=\"sk-estimator sk-toggleable\"><input class=\"sk-toggleable__control sk-hidden--visually\" id=\"sk-estimator-id-39\" type=\"checkbox\" ><label for=\"sk-estimator-id-39\" class=\"sk-toggleable__label sk-toggleable__label-arrow\">passthrough</label><div class=\"sk-toggleable__content\"><pre>passthrough</pre></div></div></div></div></div></div></div></div><div class=\"sk-item\"><div class=\"sk-estimator sk-toggleable\"><input class=\"sk-toggleable__control sk-hidden--visually\" id=\"sk-estimator-id-40\" type=\"checkbox\" ><label for=\"sk-estimator-id-40\" class=\"sk-toggleable__label sk-toggleable__label-arrow\">GaussianNB</label><div class=\"sk-toggleable__content\"><pre>GaussianNB()</pre></div></div></div></div></div></div></div>"
      ],
      "text/plain": [
       "Pipeline(steps=[('preprocess',\n",
       "                 ColumnTransformer(remainder='passthrough',\n",
       "                                   transformers=[('No_Outliers_skewed',\n",
       "                                                  Pipeline(steps=[('log_transform',\n",
       "                                                                   FunctionTransformer(func=<ufunc 'cbrt'>)),\n",
       "                                                                  ('scaler',\n",
       "                                                                   MinMaxScaler())]),\n",
       "                                                  ['Lagging_Current_Power_Factor',\n",
       "                                                   'NSM']),\n",
       "                                                 ('Outliers_skewed',\n",
       "                                                  Pipeline(steps=[('log_transform',\n",
       "                                                                   FunctionTransformer(func=<ufunc 'cbrt'>)),\n",
       "                                                                  ('scaler',\n",
       "                                                                   RobustScaler())]),\n",
       "                                                  ['CO2', 'isWeekend', 'Monday',\n",
       "                                                   'Saturday', 'Thursday',\n",
       "                                                   'Tuesday', 'Wednesday',\n",
       "                                                   'Leading_Current_Power_Factor',\n",
       "                                                   'Lagging_Current_Reactive_Power_kVarh',\n",
       "                                                   'Leading_Current_Reactive_Power_kVarh'])])),\n",
       "                ('nb', GaussianNB())])"
      ]
     },
     "execution_count": 32,
     "metadata": {},
     "output_type": "execute_result"
    }
   ],
   "source": [
    "set_config(display=\"diagram\")\n",
    "nvb_pipeline"
   ]
  },
  {
   "cell_type": "code",
   "execution_count": 33,
   "id": "fb0d73ed",
   "metadata": {},
   "outputs": [
    {
     "name": "stdout",
     "output_type": "stream",
     "text": [
      "Best CV score = 0.986:\n",
      "Best parameters:  {}\n"
     ]
    }
   ],
   "source": [
    "param_grid = {\n",
    "    \n",
    "}\n",
    "\n",
    "search = GridSearchCV(nvb_pipeline, param_grid, n_jobs=-1, cv=5, refit=True)\n",
    "search.fit(X_train, y_train)\n",
    "print(\"Best CV score = %0.3f:\" % search.best_score_)\n",
    "print(\"Best parameters: \", search.best_params_)\n",
    "\n",
    "# store the best params and best model for later use\n",
    "NB_best_params = search.best_params_\n",
    "NB_best_model = search.best_estimator_"
   ]
  },
  {
   "cell_type": "code",
   "execution_count": 34,
   "id": "c812ea3b",
   "metadata": {},
   "outputs": [
    {
     "name": "stdout",
     "output_type": "stream",
     "text": [
      "ROC score:  0.9967701493805912\n",
      "Accuracy:  0.9771689497716894\n",
      "Precision:  0.9776181989271792\n",
      "F1 score:  0.977208103630694\n",
      "CV score:  0.9863019943019943\n"
     ]
    }
   ],
   "source": [
    "from sklearn.metrics import roc_auc_score, accuracy_score, precision_score, f1_score, confusion_matrix\n",
    "\n",
    "NB_best_model = search.best_estimator_\n",
    "\n",
    "y_pred = NB_best_model.predict(X_test)\n",
    "y_pred_proba = NB_best_model.predict_proba(X_test)[:, 1]\n",
    "\n",
    "roc_score = roc_auc_score(y_test, y_pred_proba)\n",
    "accuracy = accuracy_score(y_test, y_pred)\n",
    "precision = precision_score(y_test, y_pred, average='weighted')\n",
    "f1 = f1_score(y_test, y_pred, average='weighted')\n",
    "cv_score = search.best_score_\n",
    "\n",
    "print(\"ROC score: \", roc_score)\n",
    "print(\"Accuracy: \", accuracy)\n",
    "print(\"Precision: \", precision)\n",
    "print(\"F1 score: \", f1)\n",
    "print(\"CV score: \", cv_score)"
   ]
  },
  {
   "cell_type": "markdown",
   "id": "2c9d3f2f",
   "metadata": {},
   "source": [
    "## 3. Models Evaluation\n",
    "The evaluation metrics are:\n",
    "  - accuracy\n",
    "  - precisions\n",
    "  - recall\n",
    "  - F1-score\n",
    "  - TPR (true positive rate)\n",
    "  - AUC (area under the ROC curve)"
   ]
  },
  {
   "cell_type": "code",
   "execution_count": 35,
   "id": "1cc2e250",
   "metadata": {
    "scrolled": false
   },
   "outputs": [
    {
     "name": "stdout",
     "output_type": "stream",
     "text": [
      "Random Forest Model Trained!\n",
      "SVM Model Trained!\n",
      "Best SVM Model Trained!\n",
      "KNN Model Trained!\n",
      "MLP Model Trained!\n",
      "NVB Model Trained!\n",
      "\n",
      "\n",
      "Random Forest Results:\n",
      "Accuracy: 0.9749\n",
      "Precision: 0.9495\n",
      "Recall: 0.9947\n",
      "F1-score: 0.9716\n",
      "AUC-ROC: 0.9993\n",
      "Best CV score: 0.9914\n",
      "\n",
      "\n",
      "Best SVM Results:\n",
      "Accuracy: 0.9726\n",
      "Precision: 0.9447\n",
      "Recall: 0.9947\n",
      "F1-score: 0.9691\n",
      "AUC-ROC: 0.9955\n",
      "Best Parameters: {'feature_selector__features': ['Lagging_Current_Reactive_Power_kVarh', 'CO2', 'NSM', 'Leading_Current_Power_Factor'], 'svm__C': 0.1, 'svm__kernel': 'linear'}\n",
      "Best CV score: 0.9909\n",
      "\n",
      "\n",
      "KNN Results:\n",
      "Accuracy: 0.9772\n",
      "Precision: 0.9543\n",
      "Recall: 0.9947\n",
      "F1-score: 0.9741\n",
      "AUC-ROC: 0.9871\n",
      "Best CV score: 0.9863\n",
      "\n",
      "\n",
      "MLP Results:\n",
      "Accuracy: 0.9726\n",
      "Precision: 0.9492\n",
      "Recall: 0.9894\n",
      "F1-score: 0.9689\n",
      "AUC-ROC: 0.9975\n",
      "Best CV score: 0.9863\n",
      "\n",
      "\n",
      "NVB Results:\n",
      "Accuracy: 0.9772\n",
      "Precision: 0.9590\n",
      "Recall: 0.9894\n",
      "F1-score: 0.9740\n",
      "AUC-ROC: 0.9968\n",
      "Best CV score: 0.9863\n"
     ]
    }
   ],
   "source": [
    "random_forest_pipeline.fit(X_train, y_train)\n",
    "print(\"Random Forest Model Trained!\")\n",
    "pipeline.fit(X_train, y_train)\n",
    "print(\"SVM Model Trained!\")\n",
    "SVMmodel.fit(X_train, y_train)\n",
    "print(\"Best SVM Model Trained!\")\n",
    "knn_pipeline.fit(X_train, y_train)\n",
    "print(\"KNN Model Trained!\")\n",
    "mlp_pipeline.fit(X_train, y_train)\n",
    "print(\"MLP Model Trained!\")\n",
    "nvb_pipeline.fit(X_train, y_train)\n",
    "print(\"NVB Model Trained!\")\n",
    "\n",
    "# Evaluate Random Forest\n",
    "random_forest_accuracy = accuracy_score(y_test, random_forest_pipeline.predict(X_test))\n",
    "random_forest_precision = precision_score(y_test, random_forest_pipeline.predict(X_test))\n",
    "random_forest_recall = recall_score(y_test, random_forest_pipeline.predict(X_test))\n",
    "random_forest_f1 = f1_score(y_test, random_forest_pipeline.predict(X_test))\n",
    "random_forest_auc = roc_auc_score(y_test, random_forest_pipeline.predict_proba(X_test)[:, 1])\n",
    "\n",
    "# Evaluate SVM (similar to Random Forest)\n",
    "svm_accuracy = accuracy_score(y_test, pipeline.predict(X_test))\n",
    "svm_precision = precision_score(y_test, pipeline.predict(X_test))\n",
    "svm_recall = recall_score(y_test, pipeline.predict(X_test))\n",
    "svm_f1 = f1_score(y_test, pipeline.predict(X_test))\n",
    "svm_auc = roc_auc_score(y_test, pipeline.predict_proba(X_test)[:, 1])\n",
    "\n",
    "\n",
    "# Evaluate KNN \n",
    "knn_pipeline_accuracy = accuracy_score(y_test, knn_pipeline.predict(X_test))\n",
    "knn_pipeline_precision = precision_score(y_test, knn_pipeline.predict(X_test))\n",
    "knn_pipeline_recall = recall_score(y_test, knn_pipeline.predict(X_test))\n",
    "knn_pipeline_f1 = f1_score(y_test, knn_pipeline.predict(X_test))\n",
    "knn_pipeline_auc = roc_auc_score(y_test, knn_pipeline.predict_proba(X_test)[:, 1])\n",
    "\n",
    "\n",
    "# Evaluate MLP \n",
    "mlp_pipeline_accuracy = accuracy_score(y_test, mlp_pipeline.predict(X_test))\n",
    "mlp_pipeline_precision = precision_score(y_test, mlp_pipeline.predict(X_test))\n",
    "mlp_pipeline_recall = recall_score(y_test, mlp_pipeline.predict(X_test))\n",
    "mlp_pipeline_f1 = f1_score(y_test, mlp_pipeline.predict(X_test))\n",
    "mlp_pipeline_auc = roc_auc_score(y_test, mlp_pipeline.predict_proba(X_test)[:, 1])\n",
    "\n",
    "\n",
    "# Evaluate NVB \n",
    "nvb_pipeline_accuracy = accuracy_score(y_test, nvb_pipeline.predict(X_test))\n",
    "nvb_pipeline_precision = precision_score(y_test, nvb_pipeline.predict(X_test))\n",
    "nvb_pipeline_recall = recall_score(y_test, nvb_pipeline.predict(X_test))\n",
    "nvb_pipeline_f1 = f1_score(y_test, nvb_pipeline.predict(X_test))\n",
    "nvb_pipeline_auc = roc_auc_score(y_test, nvb_pipeline.predict_proba(X_test)[:, 1])\n",
    "\n",
    "# Evaluate the best SVM model\n",
    "best_svm_accuracy = accuracy_score(y_test, SVMmodel.predict(X_test))\n",
    "best_svm_precision = precision_score(y_test, SVMmodel.predict(X_test))\n",
    "best_svm_recall = recall_score(y_test, SVMmodel.predict(X_test))\n",
    "best_svm_f1 = f1_score(y_test, SVMmodel.predict(X_test))\n",
    "best_svm_auc = roc_auc_score(y_test, SVMmodel.predict_proba(X_test)[:, 1])\n",
    "\n",
    "# Compute Best CV score for each model\n",
    "random_forest_best_score = grid_search_rf.best_score_\n",
    "best_svm_best_score = grid_search.best_score_\n",
    "knn_pipeline_best_score = search.best_score_\n",
    "mlp_pipeline_best_score = search.best_score_\n",
    "nvb_pipeline_best_score = search.best_score_\n",
    "# Print the results in a clear format\n",
    "print(\"\\n\")\n",
    "print(\"Random Forest Results:\")\n",
    "print(f\"Accuracy: {random_forest_accuracy:.4f}\")\n",
    "print(f\"Precision: {random_forest_precision:.4f}\")\n",
    "print(f\"Recall: {random_forest_recall:.4f}\")\n",
    "print(f\"F1-score: {random_forest_f1:.4f}\")\n",
    "print(f\"AUC-ROC: {random_forest_auc:.4f}\")\n",
    "print(f\"Best CV score: {random_forest_best_score:.4f}\")\n",
    "\n",
    "# Print the results\n",
    "print(\"\\n\")\n",
    "print(\"Best SVM Results:\")\n",
    "print(f\"Accuracy: {best_svm_accuracy:.4f}\")\n",
    "print(f\"Precision: {best_svm_precision:.4f}\")\n",
    "print(f\"Recall: {best_svm_recall:.4f}\")\n",
    "print(f\"F1-score: {best_svm_f1:.4f}\")\n",
    "print(f\"AUC-ROC: {best_svm_auc:.4f}\")\n",
    "print(f\"Best Parameters: {best_svm_params}\")\n",
    "print(f\"Best CV score: {best_svm_best_score:.4f}\")\n",
    "\n",
    "print(\"\\n\")\n",
    "print(\"KNN Results:\")\n",
    "print(f\"Accuracy: {knn_pipeline_accuracy:.4f}\")\n",
    "print(f\"Precision: {knn_pipeline_precision:.4f}\")\n",
    "print(f\"Recall: {knn_pipeline_recall:.4f}\")\n",
    "print(f\"F1-score: {knn_pipeline_f1:.4f}\")\n",
    "print(f\"AUC-ROC: {knn_pipeline_auc:.4f}\")\n",
    "print(f\"Best CV score: {knn_pipeline_best_score:.4f}\")\n",
    "\n",
    "print(\"\\n\")\n",
    "print(\"MLP Results:\")\n",
    "print(f\"Accuracy: {mlp_pipeline_accuracy:.4f}\")\n",
    "print(f\"Precision: {mlp_pipeline_precision:.4f}\")\n",
    "print(f\"Recall: {mlp_pipeline_recall:.4f}\")\n",
    "print(f\"F1-score: {mlp_pipeline_f1:.4f}\")\n",
    "print(f\"AUC-ROC: {mlp_pipeline_auc:.4f}\")\n",
    "print(f\"Best CV score: {search.best_score_:.4f}\")\n",
    "\n",
    "print(\"\\n\")\n",
    "print(\"NVB Results:\")\n",
    "print(f\"Accuracy: {nvb_pipeline_accuracy:.4f}\")\n",
    "print(f\"Precision: {nvb_pipeline_precision:.4f}\")\n",
    "print(f\"Recall: {nvb_pipeline_recall:.4f}\")\n",
    "print(f\"F1-score: {nvb_pipeline_f1:.4f}\")\n",
    "print(f\"AUC-ROC: {nvb_pipeline_auc:.4f}\")\n",
    "print(f\"Best CV score: {search.best_score_:.4f}\")"
   ]
  },
  {
   "cell_type": "markdown",
   "id": "61cc4f92",
   "metadata": {},
   "source": [
    "## 4. Models Comparison with Evaluation metrics"
   ]
  },
  {
   "cell_type": "code",
   "execution_count": 36,
   "id": "5552daa6",
   "metadata": {},
   "outputs": [
    {
     "data": {
      "image/png": "[encoded data removed]",
      "text/plain": [
       "<Figure size 640x480 with 1 Axes>"
      ]
     },
     "metadata": {},
     "output_type": "display_data"
    }
   ],
   "source": [
    "# Get the false positive rates and true positive rates for each model\n",
    "random_forest_fpr, random_forest_tpr, _ = roc_curve(y_test, random_forest_pipeline.predict_proba(X_test)[:, 1])\n",
    "svm_fpr, svm_tpr, _ = roc_curve(y_test, pipeline.predict_proba(X_test)[:, 1])\n",
    "knn_fpr, knn_tpr, _ = roc_curve(y_test, knn_pipeline.predict_proba(X_test)[:, 1])\n",
    "mlp_fpr, mlp_tpr, _ = roc_curve(y_test, mlp_pipeline.predict_proba(X_test)[:, 1])\n",
    "nvb_fpr, nvb_tpr, _ = roc_curve(y_test, nvb_pipeline.predict_proba(X_test)[:, 1])\n",
    "\n",
    "# Plot the ROC curves\n",
    "plt.plot([0, 1], [0, 1], linestyle='--', lw=2, color='r', label='Chance', alpha=0.8)\n",
    "plt.plot(random_forest_fpr, random_forest_tpr, lw=2, color='blue', label='Random Forest (AUC = %0.2f)' % (random_forest_auc), alpha=0.8)\n",
    "plt.plot(svm_fpr, svm_tpr, lw=2, color='orange', label='SVM (AUC = %0.2f)' % (svm_auc), alpha=0.8)\n",
    "plt.plot(knn_fpr, knn_tpr, lw=2, color='grey', label='KNN (AUC = %0.2f)' % (knn_pipeline_auc), alpha=0.8)\n",
    "plt.plot(mlp_fpr, mlp_tpr, lw=2, color='black', label='MLP (AUC = %0.2f)' % (mlp_pipeline_auc), alpha=0.8)\n",
    "plt.plot(nvb_fpr, nvb_tpr, lw=2, color='yellow', label='NVB (AUC = %0.2f)' % (nvb_pipeline_auc), alpha=0.8)\n",
    "\n",
    "plt.xlabel('False Positive Rate')\n",
    "plt.ylabel('True Positive Rate')\n",
    "plt.title('ROC curves for multiple classifiers')\n",
    "plt.legend(loc=\"lower right\")\n",
    "plt.show()"
   ]
  },
  {
   "cell_type": "code",
   "execution_count": 37,
   "id": "42141732",
   "metadata": {},
   "outputs": [
    {
     "data": {
      "image/png": "[encoded data removed]",
      "text/plain": [
       "<Figure size 800x600 with 1 Axes>"
      ]
     },
     "metadata": {},
     "output_type": "display_data"
    },
    {
     "name": "stdout",
     "output_type": "stream",
     "text": [
      "The best is Random Forest with a CV score of 0.9914\n"
     ]
    }
   ],
   "source": [
    "import matplotlib.pyplot as plt\n",
    "import seaborn as sns\n",
    "\n",
    "# Create a DataFrame with the CV scores\n",
    "df_cv_scores = pd.DataFrame({\n",
    "    'Model': ['Random Forest', 'SVM', 'KNN', 'MLP', 'NVB'],\n",
    "    'CV Score': [random_forest_best_score, best_svm_best_score, knn_pipeline_best_score, mlp_pipeline_best_score, nvb_pipeline_best_score]\n",
    "})\n",
    "\n",
    "# Create a bar plot with seaborn\n",
    "plt.figure(figsize=(8, 6))\n",
    "sns.barplot(data=df_cv_scores, x='Model', y='CV Score', palette=\"husl\")\n",
    "\n",
    "# Customize the plot\n",
    "plt.title('Cross-Validation Score Comparison')\n",
    "plt.xlabel('Model')\n",
    "plt.ylabel('CV Score')\n",
    "plt.xticks(rotation=0)\n",
    "plt.grid(axis='y')\n",
    "plt.show()\n",
    "# Find the winner\n",
    "winner = df_cv_scores.loc[df_cv_scores['CV Score'].idxmax()]['Model']\n",
    "winner_cv_score = df_cv_scores.loc[df_cv_scores['CV Score'].idxmax()]['CV Score']\n",
    "\n",
    "print(f'The best is {winner} with a CV score of {winner_cv_score:.4f}')"
   ]
  },
  {
   "cell_type": "code",
   "execution_count": 38,
   "id": "b97b4531",
   "metadata": {},
   "outputs": [
    {
     "name": "stderr",
     "output_type": "stream",
     "text": [
      "No artists with labels found to put in legend.  Note that artists whose label start with an underscore are ignored when legend() is called with no argument.\n"
     ]
    },
    {
     "data": {
      "image/png": "[encoded data removed]",
      "text/plain": [
       "<Figure size 1000x600 with 1 Axes>"
      ]
     },
     "metadata": {},
     "output_type": "display_data"
    },
    {
     "name": "stdout",
     "output_type": "stream",
     "text": [
      "The best is NVB with an average metric value of 0.9804\n"
     ]
    }
   ],
   "source": [
    "import matplotlib.pyplot as plt\n",
    "import seaborn as sns\n",
    "\n",
    "# Create a DataFrame with the metrics\n",
    "index = ['Accuracy', 'Precision', 'Recall', 'F1-score', 'AUC-ROC', 'Best CV score']\n",
    "df_metrics = pd.DataFrame({\n",
    "    'Random Forest': [random_forest_accuracy, random_forest_precision, random_forest_recall, random_forest_f1, random_forest_auc, random_forest_best_score],\n",
    "    'SVM': [best_svm_accuracy, best_svm_precision, best_svm_recall, best_svm_f1, best_svm_auc, best_svm_best_score],\n",
    "    'KNN': [knn_pipeline_accuracy, knn_pipeline_precision, knn_pipeline_recall, knn_pipeline_f1, knn_pipeline_auc, knn_pipeline_best_score],\n",
    "    'MLP': [mlp_pipeline_accuracy, mlp_pipeline_precision, mlp_pipeline_recall, mlp_pipeline_f1, mlp_pipeline_auc, mlp_pipeline_best_score],\n",
    "    'NVB': [nvb_pipeline_accuracy, nvb_pipeline_precision, nvb_pipeline_recall, nvb_pipeline_f1, nvb_pipeline_auc, nvb_pipeline_best_score]\n",
    "}, index=index)\n",
    "\n",
    "# Create a bar plot with seaborn\n",
    "plt.figure(figsize=(10, 6))\n",
    "sns.barplot(data=df_metrics, palette=\"husl\")\n",
    "\n",
    "# Customize the plot\n",
    "plt.title('Performance Metrics Comparison')\n",
    "plt.xlabel('Metric')\n",
    "plt.ylabel('Value')\n",
    "plt.legend(loc=\"lower right\", bbox_to_anchor=(1, 1))\n",
    "plt.xticks(rotation=0)\n",
    "plt.grid(axis='y')\n",
    "plt.show()\n",
    "# Calculate average metric values\n",
    "random_forest_avg = df_metrics['Random Forest'].mean()\n",
    "svm_avg = df_metrics['SVM'].mean()\n",
    "knn_avg = df_metrics['KNN'].mean()\n",
    "mlp_avg = df_metrics['MLP'].mean()\n",
    "nvb_avg = df_metrics['NVB'].mean()\n",
    "\n",
    "# Find the winner\n",
    "winner = ['Random Forest', 'SVM', 'KNN', 'MLP', 'NVB'][[random_forest_avg, svm_avg, knn_avg, mlp_avg, nvb_avg].index(max([random_forest_avg, svm_avg, knn_avg, mlp_avg, nvb_avg]))]\n",
    "winner_avg = max([random_forest_avg, svm_avg, knn_avg, mlp_avg, nvb_avg])\n",
    "\n",
    "print(f'The best is {winner} with an average metric value of {winner_avg:.4f}')"
   ]
  },
  {
   "cell_type": "code",
   "execution_count": 39,
   "id": "5c555de8",
   "metadata": {},
   "outputs": [
    {
     "data": {
      "image/png": "[encoded data removed]",
      "text/plain": [
       "<Figure size 800x600 with 1 Axes>"
      ]
     },
     "metadata": {},
     "output_type": "display_data"
    }
   ],
   "source": [
    "import matplotlib.pyplot as plt\n",
    "import seaborn as sns\n",
    "\n",
    "# Calculate overall average scores\n",
    "random_forest_avg = (random_forest_accuracy + random_forest_precision + random_forest_recall + random_forest_f1 + random_forest_auc) / 5\n",
    "svm_avg = (best_svm_accuracy + best_svm_precision + best_svm_recall + best_svm_f1 + best_svm_auc) / 5\n",
    "knn_avg = (knn_pipeline_accuracy + knn_pipeline_precision + knn_pipeline_recall + knn_pipeline_f1 + knn_pipeline_auc) / 5\n",
    "mlp_avg = (mlp_pipeline_accuracy + mlp_pipeline_precision + mlp_pipeline_recall + mlp_pipeline_f1 + mlp_pipeline_auc) / 5\n",
    "nvb_avg = (nvb_pipeline_accuracy + nvb_pipeline_precision + nvb_pipeline_recall + nvb_pipeline_f1 + nvb_pipeline_auc) / 5\n",
    "\n",
    "# Create a DataFrame with the overall average scores\n",
    "df_avg_scores = pd.DataFrame({\n",
    "    'Model': ['Random Forest', 'SVM', 'KNN', 'MLP', 'NVB'],\n",
    "    'Average Score': [random_forest_avg, svm_avg, knn_avg, mlp_avg, nvb_avg]\n",
    "})\n",
    "\n",
    "# Create a bar plot with seaborn\n",
    "plt.figure(figsize=(8, 6))\n",
    "sns.barplot(data=df_avg_scores, x='Model', y='Average Score', palette=\"husl\")\n",
    "\n",
    "# Customize the plot\n",
    "plt.title('Overall Average Score Comparison')\n",
    "plt.xlabel('Model')\n",
    "plt.ylabel('Average Score')\n",
    "plt.xticks(rotation=0)\n",
    "plt.grid(axis='y')\n",
    "plt.show()"
   ]
  },
  {
   "cell_type": "markdown",
   "id": "b3854aaa",
   "metadata": {},
   "source": [
    "# 5.Conclusion and Final Model"
   ]
  },
  {
   "cell_type": "code",
   "execution_count": 40,
   "id": "51ce70c0",
   "metadata": {},
   "outputs": [
    {
     "name": "stdout",
     "output_type": "stream",
     "text": [
      "The best is NVB with an average score of 0.9793\n"
     ]
    }
   ],
   "source": [
    "\n",
    "winner = df_avg_scores.loc[df_avg_scores['Average Score'].idxmax()]['Model']\n",
    "winner_avg_score = df_avg_scores.loc[df_avg_scores['Average Score'].idxmax()]['Average Score']\n",
    "\n",
    "print(f'The best is {winner} with an average score of {winner_avg_score:.4f}')"
   ]
  },
  {
   "cell_type": "markdown",
   "id": "3c765d4a",
   "metadata": {},
   "source": [
    "### So just going by CV score, SVM/Random Forest seem to be the better models, but overall NVB seems to be the general best choice to go for"
   ]
  },
  {
   "cell_type": "markdown",
   "id": "28db6855",
   "metadata": {},
   "source": [
    "### 1. Best CV Metric implies that Random Forest would handle unseen data the best amongst all of other models\n",
    "### 2. Naive Bayes's high precision and high accuracy means that in a situation where the cost of false positives is very high.\n",
    "\n",
    "In practice, the Best CV Score is often considered more important because it gives a better indication of how well the model will perform on unseen data. However, the final choice depends on the specific context and goals of the project."
   ]
  },
  {
   "cell_type": "markdown",
   "id": "56e1c230",
   "metadata": {},
   "source": [
    "## 5.1 Saving the trained model in model directory"
   ]
  },
  {
   "cell_type": "code",
   "execution_count": 41,
   "id": "6c0a6037",
   "metadata": {},
   "outputs": [
    {
     "data": {
      "text/html": [
       "<style>#sk-container-id-6 {color: black;background-color: white;}#sk-container-id-6 pre{padding: 0;}#sk-container-id-6 div.sk-toggleable {background-color: white;}#sk-container-id-6 label.sk-toggleable__label {cursor: pointer;display: block;width: 100%;margin-bottom: 0;padding: 0.3em;box-sizing: border-box;text-align: center;}#sk-container-id-6 label.sk-toggleable__label-arrow:before {content: \"▸\";float: left;margin-right: 0.25em;color: #696969;}#sk-container-id-6 label.sk-toggleable__label-arrow:hover:before {color: black;}#sk-container-id-6 div.sk-estimator:hover label.sk-toggleable__label-arrow:before {color: black;}#sk-container-id-6 div.sk-toggleable__content {max-height: 0;max-width: 0;overflow: hidden;text-align: left;background-color: #f0f8ff;}#sk-container-id-6 div.sk-toggleable__content pre {margin: 0.2em;color: black;border-radius: 0.25em;background-color: #f0f8ff;}#sk-container-id-6 input.sk-toggleable__control:checked~div.sk-toggleable__content {max-height: 200px;max-width: 100%;overflow: auto;}#sk-container-id-6 input.sk-toggleable__control:checked~label.sk-toggleable__label-arrow:before {content: \"▾\";}#sk-container-id-6 div.sk-estimator input.sk-toggleable__control:checked~label.sk-toggleable__label {background-color: #d4ebff;}#sk-container-id-6 div.sk-label input.sk-toggleable__control:checked~label.sk-toggleable__label {background-color: #d4ebff;}#sk-container-id-6 input.sk-hidden--visually {border: 0;clip: rect(1px 1px 1px 1px);clip: rect(1px, 1px, 1px, 1px);height: 1px;margin: -1px;overflow: hidden;padding: 0;position: absolute;width: 1px;}#sk-container-id-6 div.sk-estimator {font-family: monospace;background-color: #f0f8ff;border: 1px dotted black;border-radius: 0.25em;box-sizing: border-box;margin-bottom: 0.5em;}#sk-container-id-6 div.sk-estimator:hover {background-color: #d4ebff;}#sk-container-id-6 div.sk-parallel-item::after {content: \"\";width: 100%;border-bottom: 1px solid gray;flex-grow: 1;}#sk-container-id-6 div.sk-label:hover label.sk-toggleable__label {background-color: #d4ebff;}#sk-container-id-6 div.sk-serial::before {content: \"\";position: absolute;border-left: 1px solid gray;box-sizing: border-box;top: 0;bottom: 0;left: 50%;z-index: 0;}#sk-container-id-6 div.sk-serial {display: flex;flex-direction: column;align-items: center;background-color: white;padding-right: 0.2em;padding-left: 0.2em;position: relative;}#sk-container-id-6 div.sk-item {position: relative;z-index: 1;}#sk-container-id-6 div.sk-parallel {display: flex;align-items: stretch;justify-content: center;background-color: white;position: relative;}#sk-container-id-6 div.sk-item::before, #sk-container-id-6 div.sk-parallel-item::before {content: \"\";position: absolute;border-left: 1px solid gray;box-sizing: border-box;top: 0;bottom: 0;left: 50%;z-index: -1;}#sk-container-id-6 div.sk-parallel-item {display: flex;flex-direction: column;z-index: 1;position: relative;background-color: white;}#sk-container-id-6 div.sk-parallel-item:first-child::after {align-self: flex-end;width: 50%;}#sk-container-id-6 div.sk-parallel-item:last-child::after {align-self: flex-start;width: 50%;}#sk-container-id-6 div.sk-parallel-item:only-child::after {width: 0;}#sk-container-id-6 div.sk-dashed-wrapped {border: 1px dashed gray;margin: 0 0.4em 0.5em 0.4em;box-sizing: border-box;padding-bottom: 0.4em;background-color: white;}#sk-container-id-6 div.sk-label label {font-family: monospace;font-weight: bold;display: inline-block;line-height: 1.2em;}#sk-container-id-6 div.sk-label-container {text-align: center;}#sk-container-id-6 div.sk-container {/* jupyter's `normalize.less` sets `[hidden] { display: none; }` but bootstrap.min.css set `[hidden] { display: none !important; }` so we also need the `!important` here to be able to override the default hidden behavior on the sphinx rendered scikit-learn.org. See: https://github.com/scikit-learn/scikit-learn/issues/21755 */display: inline-block !important;position: relative;}#sk-container-id-6 div.sk-text-repr-fallback {display: none;}</style><div id=\"sk-container-id-6\" class=\"sk-top-container\"><div class=\"sk-text-repr-fallback\"><pre>GaussianNB()</pre><b>In a Jupyter environment, please rerun this cell to show the HTML representation or trust the notebook. <br />On GitHub, the HTML representation is unable to render, please try loading this page with nbviewer.org.</b></div><div class=\"sk-container\" hidden><div class=\"sk-item\"><div class=\"sk-estimator sk-toggleable\"><input class=\"sk-toggleable__control sk-hidden--visually\" id=\"sk-estimator-id-41\" type=\"checkbox\" checked><label for=\"sk-estimator-id-41\" class=\"sk-toggleable__label sk-toggleable__label-arrow\">GaussianNB</label><div class=\"sk-toggleable__content\"><pre>GaussianNB()</pre></div></div></div></div></div>"
      ],
      "text/plain": [
       "GaussianNB()"
      ]
     },
     "execution_count": 41,
     "metadata": {},
     "output_type": "execute_result"
    }
   ],
   "source": [
    "from sklearn.naive_bayes import GaussianNB\n",
    "\n",
    "# Create a Gaussian Naive Bayes classifier\n",
    "final_model = GaussianNB(**NB_best_params)\n",
    "\n",
    "# Train the final model on the entire training set\n",
    "final_model.fit(X_train, y_train)"
   ]
  },
  {
   "cell_type": "code",
   "execution_count": 42,
   "id": "77df9530",
   "metadata": {},
   "outputs": [],
   "source": [
    "filename = 'final_RF_classifier_model.sav'\n",
    "pickle.dump(final_model, open(filename, 'wb'))"
   ]
  }
 ],
 "metadata": {
  "kernelspec": {
   "display_name": "Python 3 (ipykernel)",
   "language": "python",
   "name": "python3"
  },
  "language_info": {
   "codemirror_mode": {
    "name": "ipython",
    "version": 3
   },
   "file_extension": ".py",
   "mimetype": "text/x-python",
   "name": "python",
   "nbconvert_exporter": "python",
   "pygments_lexer": "ipython3",
   "version": "3.11.7"
  }
 },
 "nbformat": 4,
 "nbformat_minor": 5
}
